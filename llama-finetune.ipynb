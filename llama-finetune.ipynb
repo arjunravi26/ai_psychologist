{
 "cells": [
  {
   "cell_type": "markdown",
   "metadata": {
    "id": "Qf7G56ZQ0tz_"
   },
   "source": [
    "# Fine tune Llama Model"
   ]
  },
  {
   "cell_type": "markdown",
   "metadata": {
    "id": "nlmqxgEC0ocR"
   },
   "source": [
    "Install all required library"
   ]
  },
  {
   "cell_type": "code",
   "execution_count": 1,
   "metadata": {
    "colab": {
     "base_uri": "https://localhost:8080/"
    },
    "execution": {
     "iopub.execute_input": "2025-06-02T06:22:28.370240Z",
     "iopub.status.busy": "2025-06-02T06:22:28.369647Z",
     "iopub.status.idle": "2025-06-02T06:23:55.773208Z",
     "shell.execute_reply": "2025-06-02T06:23:55.772471Z",
     "shell.execute_reply.started": "2025-06-02T06:22:28.370215Z"
    },
    "id": "kHtNoNzTzc82",
    "outputId": "67ea07e3-3ea7-46e7-f964-2f9215925255",
    "trusted": true
   },
   "outputs": [
    {
     "name": "stdout",
     "output_type": "stream",
     "text": [
      "Requirement already satisfied: accelerate in /usr/local/lib/python3.11/dist-packages (1.5.2)\n",
      "Requirement already satisfied: peft in /usr/local/lib/python3.11/dist-packages (0.14.0)\n",
      "Collecting bitsandbytes\n",
      "  Downloading bitsandbytes-0.46.0-py3-none-manylinux_2_24_x86_64.whl.metadata (10 kB)\n",
      "Requirement already satisfied: transformers in /usr/local/lib/python3.11/dist-packages (4.51.3)\n",
      "Collecting trl\n",
      "  Downloading trl-0.18.1-py3-none-any.whl.metadata (11 kB)\n",
      "Requirement already satisfied: triton in /usr/local/lib/python3.11/dist-packages (3.2.0)\n",
      "Requirement already satisfied: numpy<3.0.0,>=1.17 in /usr/local/lib/python3.11/dist-packages (from accelerate) (1.26.4)\n",
      "Requirement already satisfied: packaging>=20.0 in /usr/local/lib/python3.11/dist-packages (from accelerate) (25.0)\n",
      "Requirement already satisfied: psutil in /usr/local/lib/python3.11/dist-packages (from accelerate) (7.0.0)\n",
      "Requirement already satisfied: pyyaml in /usr/local/lib/python3.11/dist-packages (from accelerate) (6.0.2)\n",
      "Requirement already satisfied: torch>=2.0.0 in /usr/local/lib/python3.11/dist-packages (from accelerate) (2.6.0+cu124)\n",
      "Requirement already satisfied: huggingface-hub>=0.21.0 in /usr/local/lib/python3.11/dist-packages (from accelerate) (0.31.1)\n",
      "Requirement already satisfied: safetensors>=0.4.3 in /usr/local/lib/python3.11/dist-packages (from accelerate) (0.5.3)\n",
      "Requirement already satisfied: tqdm in /usr/local/lib/python3.11/dist-packages (from peft) (4.67.1)\n",
      "Requirement already satisfied: filelock in /usr/local/lib/python3.11/dist-packages (from transformers) (3.18.0)\n",
      "Requirement already satisfied: regex!=2019.12.17 in /usr/local/lib/python3.11/dist-packages (from transformers) (2024.11.6)\n",
      "Requirement already satisfied: requests in /usr/local/lib/python3.11/dist-packages (from transformers) (2.32.3)\n",
      "Requirement already satisfied: tokenizers<0.22,>=0.21 in /usr/local/lib/python3.11/dist-packages (from transformers) (0.21.1)\n",
      "Requirement already satisfied: datasets>=3.0.0 in /usr/local/lib/python3.11/dist-packages (from trl) (3.6.0)\n",
      "Requirement already satisfied: pyarrow>=15.0.0 in /usr/local/lib/python3.11/dist-packages (from datasets>=3.0.0->trl) (19.0.1)\n",
      "Requirement already satisfied: dill<0.3.9,>=0.3.0 in /usr/local/lib/python3.11/dist-packages (from datasets>=3.0.0->trl) (0.3.8)\n",
      "Requirement already satisfied: pandas in /usr/local/lib/python3.11/dist-packages (from datasets>=3.0.0->trl) (2.2.3)\n",
      "Requirement already satisfied: xxhash in /usr/local/lib/python3.11/dist-packages (from datasets>=3.0.0->trl) (3.5.0)\n",
      "Requirement already satisfied: multiprocess<0.70.17 in /usr/local/lib/python3.11/dist-packages (from datasets>=3.0.0->trl) (0.70.16)\n",
      "Collecting fsspec<=2025.3.0,>=2023.1.0 (from fsspec[http]<=2025.3.0,>=2023.1.0->datasets>=3.0.0->trl)\n",
      "  Downloading fsspec-2025.3.0-py3-none-any.whl.metadata (11 kB)\n",
      "Requirement already satisfied: typing-extensions>=3.7.4.3 in /usr/local/lib/python3.11/dist-packages (from huggingface-hub>=0.21.0->accelerate) (4.13.2)\n",
      "Requirement already satisfied: hf-xet<2.0.0,>=1.1.0 in /usr/local/lib/python3.11/dist-packages (from huggingface-hub>=0.21.0->accelerate) (1.1.0)\n",
      "Requirement already satisfied: mkl_fft in /usr/local/lib/python3.11/dist-packages (from numpy<3.0.0,>=1.17->accelerate) (1.3.8)\n",
      "Requirement already satisfied: mkl_random in /usr/local/lib/python3.11/dist-packages (from numpy<3.0.0,>=1.17->accelerate) (1.2.4)\n",
      "Requirement already satisfied: mkl_umath in /usr/local/lib/python3.11/dist-packages (from numpy<3.0.0,>=1.17->accelerate) (0.1.1)\n",
      "Requirement already satisfied: mkl in /usr/local/lib/python3.11/dist-packages (from numpy<3.0.0,>=1.17->accelerate) (2025.1.0)\n",
      "Requirement already satisfied: tbb4py in /usr/local/lib/python3.11/dist-packages (from numpy<3.0.0,>=1.17->accelerate) (2022.1.0)\n",
      "Requirement already satisfied: mkl-service in /usr/local/lib/python3.11/dist-packages (from numpy<3.0.0,>=1.17->accelerate) (2.4.1)\n",
      "Requirement already satisfied: charset-normalizer<4,>=2 in /usr/local/lib/python3.11/dist-packages (from requests->transformers) (3.4.2)\n",
      "Requirement already satisfied: idna<4,>=2.5 in /usr/local/lib/python3.11/dist-packages (from requests->transformers) (3.10)\n",
      "Requirement already satisfied: urllib3<3,>=1.21.1 in /usr/local/lib/python3.11/dist-packages (from requests->transformers) (2.4.0)\n",
      "Requirement already satisfied: certifi>=2017.4.17 in /usr/local/lib/python3.11/dist-packages (from requests->transformers) (2025.4.26)\n",
      "Requirement already satisfied: networkx in /usr/local/lib/python3.11/dist-packages (from torch>=2.0.0->accelerate) (3.4.2)\n",
      "Requirement already satisfied: jinja2 in /usr/local/lib/python3.11/dist-packages (from torch>=2.0.0->accelerate) (3.1.6)\n",
      "Requirement already satisfied: nvidia-cuda-nvrtc-cu12==12.4.127 in /usr/local/lib/python3.11/dist-packages (from torch>=2.0.0->accelerate) (12.4.127)\n",
      "Requirement already satisfied: nvidia-cuda-runtime-cu12==12.4.127 in /usr/local/lib/python3.11/dist-packages (from torch>=2.0.0->accelerate) (12.4.127)\n",
      "Requirement already satisfied: nvidia-cuda-cupti-cu12==12.4.127 in /usr/local/lib/python3.11/dist-packages (from torch>=2.0.0->accelerate) (12.4.127)\n",
      "Collecting nvidia-cudnn-cu12==9.1.0.70 (from torch>=2.0.0->accelerate)\n",
      "  Downloading nvidia_cudnn_cu12-9.1.0.70-py3-none-manylinux2014_x86_64.whl.metadata (1.6 kB)\n",
      "Collecting nvidia-cublas-cu12==12.4.5.8 (from torch>=2.0.0->accelerate)\n",
      "  Downloading nvidia_cublas_cu12-12.4.5.8-py3-none-manylinux2014_x86_64.whl.metadata (1.5 kB)\n",
      "Collecting nvidia-cufft-cu12==11.2.1.3 (from torch>=2.0.0->accelerate)\n",
      "  Downloading nvidia_cufft_cu12-11.2.1.3-py3-none-manylinux2014_x86_64.whl.metadata (1.5 kB)\n",
      "Collecting nvidia-curand-cu12==10.3.5.147 (from torch>=2.0.0->accelerate)\n",
      "  Downloading nvidia_curand_cu12-10.3.5.147-py3-none-manylinux2014_x86_64.whl.metadata (1.5 kB)\n",
      "Collecting nvidia-cusolver-cu12==11.6.1.9 (from torch>=2.0.0->accelerate)\n",
      "  Downloading nvidia_cusolver_cu12-11.6.1.9-py3-none-manylinux2014_x86_64.whl.metadata (1.6 kB)\n",
      "Collecting nvidia-cusparse-cu12==12.3.1.170 (from torch>=2.0.0->accelerate)\n",
      "  Downloading nvidia_cusparse_cu12-12.3.1.170-py3-none-manylinux2014_x86_64.whl.metadata (1.6 kB)\n",
      "Requirement already satisfied: nvidia-cusparselt-cu12==0.6.2 in /usr/local/lib/python3.11/dist-packages (from torch>=2.0.0->accelerate) (0.6.2)\n",
      "Requirement already satisfied: nvidia-nccl-cu12==2.21.5 in /usr/local/lib/python3.11/dist-packages (from torch>=2.0.0->accelerate) (2.21.5)\n",
      "Requirement already satisfied: nvidia-nvtx-cu12==12.4.127 in /usr/local/lib/python3.11/dist-packages (from torch>=2.0.0->accelerate) (12.4.127)\n",
      "Collecting nvidia-nvjitlink-cu12==12.4.127 (from torch>=2.0.0->accelerate)\n",
      "  Downloading nvidia_nvjitlink_cu12-12.4.127-py3-none-manylinux2014_x86_64.whl.metadata (1.5 kB)\n",
      "Requirement already satisfied: sympy==1.13.1 in /usr/local/lib/python3.11/dist-packages (from torch>=2.0.0->accelerate) (1.13.1)\n",
      "Requirement already satisfied: mpmath<1.4,>=1.1.0 in /usr/local/lib/python3.11/dist-packages (from sympy==1.13.1->torch>=2.0.0->accelerate) (1.3.0)\n",
      "Requirement already satisfied: aiohttp!=4.0.0a0,!=4.0.0a1 in /usr/local/lib/python3.11/dist-packages (from fsspec[http]<=2025.3.0,>=2023.1.0->datasets>=3.0.0->trl) (3.11.18)\n",
      "Requirement already satisfied: MarkupSafe>=2.0 in /usr/local/lib/python3.11/dist-packages (from jinja2->torch>=2.0.0->accelerate) (3.0.2)\n",
      "Requirement already satisfied: intel-openmp<2026,>=2024 in /usr/local/lib/python3.11/dist-packages (from mkl->numpy<3.0.0,>=1.17->accelerate) (2024.2.0)\n",
      "Requirement already satisfied: tbb==2022.* in /usr/local/lib/python3.11/dist-packages (from mkl->numpy<3.0.0,>=1.17->accelerate) (2022.1.0)\n",
      "Requirement already satisfied: tcmlib==1.* in /usr/local/lib/python3.11/dist-packages (from tbb==2022.*->mkl->numpy<3.0.0,>=1.17->accelerate) (1.3.0)\n",
      "Requirement already satisfied: intel-cmplr-lib-rt in /usr/local/lib/python3.11/dist-packages (from mkl_umath->numpy<3.0.0,>=1.17->accelerate) (2024.2.0)\n",
      "Requirement already satisfied: python-dateutil>=2.8.2 in /usr/local/lib/python3.11/dist-packages (from pandas->datasets>=3.0.0->trl) (2.9.0.post0)\n",
      "Requirement already satisfied: pytz>=2020.1 in /usr/local/lib/python3.11/dist-packages (from pandas->datasets>=3.0.0->trl) (2025.2)\n",
      "Requirement already satisfied: tzdata>=2022.7 in /usr/local/lib/python3.11/dist-packages (from pandas->datasets>=3.0.0->trl) (2025.2)\n",
      "Requirement already satisfied: aiohappyeyeballs>=2.3.0 in /usr/local/lib/python3.11/dist-packages (from aiohttp!=4.0.0a0,!=4.0.0a1->fsspec[http]<=2025.3.0,>=2023.1.0->datasets>=3.0.0->trl) (2.6.1)\n",
      "Requirement already satisfied: aiosignal>=1.1.2 in /usr/local/lib/python3.11/dist-packages (from aiohttp!=4.0.0a0,!=4.0.0a1->fsspec[http]<=2025.3.0,>=2023.1.0->datasets>=3.0.0->trl) (1.3.2)\n",
      "Requirement already satisfied: attrs>=17.3.0 in /usr/local/lib/python3.11/dist-packages (from aiohttp!=4.0.0a0,!=4.0.0a1->fsspec[http]<=2025.3.0,>=2023.1.0->datasets>=3.0.0->trl) (25.3.0)\n",
      "Requirement already satisfied: frozenlist>=1.1.1 in /usr/local/lib/python3.11/dist-packages (from aiohttp!=4.0.0a0,!=4.0.0a1->fsspec[http]<=2025.3.0,>=2023.1.0->datasets>=3.0.0->trl) (1.6.0)\n",
      "Requirement already satisfied: multidict<7.0,>=4.5 in /usr/local/lib/python3.11/dist-packages (from aiohttp!=4.0.0a0,!=4.0.0a1->fsspec[http]<=2025.3.0,>=2023.1.0->datasets>=3.0.0->trl) (6.4.3)\n",
      "Requirement already satisfied: propcache>=0.2.0 in /usr/local/lib/python3.11/dist-packages (from aiohttp!=4.0.0a0,!=4.0.0a1->fsspec[http]<=2025.3.0,>=2023.1.0->datasets>=3.0.0->trl) (0.3.1)\n",
      "Requirement already satisfied: yarl<2.0,>=1.17.0 in /usr/local/lib/python3.11/dist-packages (from aiohttp!=4.0.0a0,!=4.0.0a1->fsspec[http]<=2025.3.0,>=2023.1.0->datasets>=3.0.0->trl) (1.20.0)\n",
      "Requirement already satisfied: intel-cmplr-lib-ur==2024.2.0 in /usr/local/lib/python3.11/dist-packages (from intel-openmp<2026,>=2024->mkl->numpy<3.0.0,>=1.17->accelerate) (2024.2.0)\n",
      "Requirement already satisfied: six>=1.5 in /usr/local/lib/python3.11/dist-packages (from python-dateutil>=2.8.2->pandas->datasets>=3.0.0->trl) (1.17.0)\n",
      "Downloading bitsandbytes-0.46.0-py3-none-manylinux_2_24_x86_64.whl (67.0 MB)\n",
      "\u001b[2K   \u001b[90m━━━━━━━━━━━━━━━━━━━━━━━━━━━━━━━━━━━━━━━━\u001b[0m \u001b[32m67.0/67.0 MB\u001b[0m \u001b[31m26.3 MB/s\u001b[0m eta \u001b[36m0:00:00\u001b[0m:00:01\u001b[0m00:01\u001b[0m\n",
      "\u001b[?25hDownloading trl-0.18.1-py3-none-any.whl (366 kB)\n",
      "\u001b[2K   \u001b[90m━━━━━━━━━━━━━━━━━━━━━━━━━━━━━━━━━━━━━━━━\u001b[0m \u001b[32m366.3/366.3 kB\u001b[0m \u001b[31m23.1 MB/s\u001b[0m eta \u001b[36m0:00:00\u001b[0m\n",
      "\u001b[?25hDownloading nvidia_cublas_cu12-12.4.5.8-py3-none-manylinux2014_x86_64.whl (363.4 MB)\n",
      "\u001b[2K   \u001b[90m━━━━━━━━━━━━━━━━━━━━━━━━━━━━━━━━━━━━━━━━\u001b[0m \u001b[32m363.4/363.4 MB\u001b[0m \u001b[31m4.7 MB/s\u001b[0m eta \u001b[36m0:00:00\u001b[0m0:00:01\u001b[0m00:01\u001b[0m\n",
      "\u001b[?25hDownloading nvidia_cudnn_cu12-9.1.0.70-py3-none-manylinux2014_x86_64.whl (664.8 MB)\n",
      "\u001b[2K   \u001b[90m━━━━━━━━━━━━━━━━━━━━━━━━━━━━━━━━━━━━━━━━\u001b[0m \u001b[32m664.8/664.8 MB\u001b[0m \u001b[31m2.5 MB/s\u001b[0m eta \u001b[36m0:00:00\u001b[0m0:00:01\u001b[0m00:01\u001b[0m\n",
      "\u001b[?25hDownloading nvidia_cufft_cu12-11.2.1.3-py3-none-manylinux2014_x86_64.whl (211.5 MB)\n",
      "\u001b[2K   \u001b[90m━━━━━━━━━━━━━━━━━━━━━━━━━━━━━━━━━━━━━━━━\u001b[0m \u001b[32m211.5/211.5 MB\u001b[0m \u001b[31m8.1 MB/s\u001b[0m eta \u001b[36m0:00:00\u001b[0m0:00:01\u001b[0m00:01\u001b[0m\n",
      "\u001b[?25hDownloading nvidia_curand_cu12-10.3.5.147-py3-none-manylinux2014_x86_64.whl (56.3 MB)\n",
      "\u001b[2K   \u001b[90m━━━━━━━━━━━━━━━━━━━━━━━━━━━━━━━━━━━━━━━━\u001b[0m \u001b[32m56.3/56.3 MB\u001b[0m \u001b[31m30.3 MB/s\u001b[0m eta \u001b[36m0:00:00\u001b[0m:00:01\u001b[0m00:01\u001b[0m\n",
      "\u001b[?25hDownloading nvidia_cusolver_cu12-11.6.1.9-py3-none-manylinux2014_x86_64.whl (127.9 MB)\n",
      "\u001b[2K   \u001b[90m━━━━━━━━━━━━━━━━━━━━━━━━━━━━━━━━━━━━━━━━\u001b[0m \u001b[32m127.9/127.9 MB\u001b[0m \u001b[31m7.7 MB/s\u001b[0m eta \u001b[36m0:00:00\u001b[0m0:00:01\u001b[0m00:01\u001b[0m\n",
      "\u001b[?25hDownloading nvidia_cusparse_cu12-12.3.1.170-py3-none-manylinux2014_x86_64.whl (207.5 MB)\n",
      "\u001b[2K   \u001b[90m━━━━━━━━━━━━━━━━━━━━━━━━━━━━━━━━━━━━━━━━\u001b[0m \u001b[32m207.5/207.5 MB\u001b[0m \u001b[31m8.3 MB/s\u001b[0m eta \u001b[36m0:00:00\u001b[0m0:00:01\u001b[0m00:01\u001b[0m\n",
      "\u001b[?25hDownloading nvidia_nvjitlink_cu12-12.4.127-py3-none-manylinux2014_x86_64.whl (21.1 MB)\n",
      "\u001b[2K   \u001b[90m━━━━━━━━━━━━━━━━━━━━━━━━━━━━━━━━━━━━━━━━\u001b[0m \u001b[32m21.1/21.1 MB\u001b[0m \u001b[31m75.3 MB/s\u001b[0m eta \u001b[36m0:00:00\u001b[0m:00:01\u001b[0m00:01\u001b[0m\n",
      "\u001b[?25hDownloading fsspec-2025.3.0-py3-none-any.whl (193 kB)\n",
      "\u001b[2K   \u001b[90m━━━━━━━━━━━━━━━━━━━━━━━━━━━━━━━━━━━━━━━━\u001b[0m \u001b[32m193.6/193.6 kB\u001b[0m \u001b[31m16.1 MB/s\u001b[0m eta \u001b[36m0:00:00\u001b[0m\n",
      "\u001b[?25hInstalling collected packages: nvidia-nvjitlink-cu12, nvidia-curand-cu12, nvidia-cufft-cu12, nvidia-cublas-cu12, fsspec, nvidia-cusparse-cu12, nvidia-cudnn-cu12, nvidia-cusolver-cu12, trl, bitsandbytes\n",
      "  Attempting uninstall: nvidia-nvjitlink-cu12\n",
      "    Found existing installation: nvidia-nvjitlink-cu12 12.9.41\n",
      "    Uninstalling nvidia-nvjitlink-cu12-12.9.41:\n",
      "      Successfully uninstalled nvidia-nvjitlink-cu12-12.9.41\n",
      "  Attempting uninstall: nvidia-curand-cu12\n",
      "    Found existing installation: nvidia-curand-cu12 10.3.10.19\n",
      "    Uninstalling nvidia-curand-cu12-10.3.10.19:\n",
      "      Successfully uninstalled nvidia-curand-cu12-10.3.10.19\n",
      "  Attempting uninstall: nvidia-cufft-cu12\n",
      "    Found existing installation: nvidia-cufft-cu12 11.4.0.6\n",
      "    Uninstalling nvidia-cufft-cu12-11.4.0.6:\n",
      "      Successfully uninstalled nvidia-cufft-cu12-11.4.0.6\n",
      "  Attempting uninstall: nvidia-cublas-cu12\n",
      "    Found existing installation: nvidia-cublas-cu12 12.9.0.13\n",
      "    Uninstalling nvidia-cublas-cu12-12.9.0.13:\n",
      "      Successfully uninstalled nvidia-cublas-cu12-12.9.0.13\n",
      "  Attempting uninstall: fsspec\n",
      "    Found existing installation: fsspec 2025.3.2\n",
      "    Uninstalling fsspec-2025.3.2:\n",
      "      Successfully uninstalled fsspec-2025.3.2\n",
      "  Attempting uninstall: nvidia-cusparse-cu12\n",
      "    Found existing installation: nvidia-cusparse-cu12 12.5.9.5\n",
      "    Uninstalling nvidia-cusparse-cu12-12.5.9.5:\n",
      "      Successfully uninstalled nvidia-cusparse-cu12-12.5.9.5\n",
      "  Attempting uninstall: nvidia-cudnn-cu12\n",
      "    Found existing installation: nvidia-cudnn-cu12 9.3.0.75\n",
      "    Uninstalling nvidia-cudnn-cu12-9.3.0.75:\n",
      "      Successfully uninstalled nvidia-cudnn-cu12-9.3.0.75\n",
      "  Attempting uninstall: nvidia-cusolver-cu12\n",
      "    Found existing installation: nvidia-cusolver-cu12 11.7.4.40\n",
      "    Uninstalling nvidia-cusolver-cu12-11.7.4.40:\n",
      "      Successfully uninstalled nvidia-cusolver-cu12-11.7.4.40\n",
      "\u001b[31mERROR: pip's dependency resolver does not currently take into account all the packages that are installed. This behaviour is the source of the following dependency conflicts.\n",
      "cesium 0.12.4 requires numpy<3.0,>=2.0, but you have numpy 1.26.4 which is incompatible.\n",
      "bigframes 1.42.0 requires rich<14,>=12.4.4, but you have rich 14.0.0 which is incompatible.\n",
      "gcsfs 2025.3.2 requires fsspec==2025.3.2, but you have fsspec 2025.3.0 which is incompatible.\u001b[0m\u001b[31m\n",
      "\u001b[0mSuccessfully installed bitsandbytes-0.46.0 fsspec-2025.3.0 nvidia-cublas-cu12-12.4.5.8 nvidia-cudnn-cu12-9.1.0.70 nvidia-cufft-cu12-11.2.1.3 nvidia-curand-cu12-10.3.5.147 nvidia-cusolver-cu12-11.6.1.9 nvidia-cusparse-cu12-12.3.1.170 nvidia-nvjitlink-cu12-12.4.127 trl-0.18.1\n",
      "Requirement already satisfied: transformers in /usr/local/lib/python3.11/dist-packages (4.51.3)\n",
      "Collecting transformers\n",
      "  Downloading transformers-4.52.4-py3-none-any.whl.metadata (38 kB)\n",
      "Requirement already satisfied: accelerate in /usr/local/lib/python3.11/dist-packages (1.5.2)\n",
      "Collecting accelerate\n",
      "  Downloading accelerate-1.7.0-py3-none-any.whl.metadata (19 kB)\n",
      "Requirement already satisfied: filelock in /usr/local/lib/python3.11/dist-packages (from transformers) (3.18.0)\n",
      "Requirement already satisfied: huggingface-hub<1.0,>=0.30.0 in /usr/local/lib/python3.11/dist-packages (from transformers) (0.31.1)\n",
      "Requirement already satisfied: numpy>=1.17 in /usr/local/lib/python3.11/dist-packages (from transformers) (1.26.4)\n",
      "Requirement already satisfied: packaging>=20.0 in /usr/local/lib/python3.11/dist-packages (from transformers) (25.0)\n",
      "Requirement already satisfied: pyyaml>=5.1 in /usr/local/lib/python3.11/dist-packages (from transformers) (6.0.2)\n",
      "Requirement already satisfied: regex!=2019.12.17 in /usr/local/lib/python3.11/dist-packages (from transformers) (2024.11.6)\n",
      "Requirement already satisfied: requests in /usr/local/lib/python3.11/dist-packages (from transformers) (2.32.3)\n",
      "Requirement already satisfied: tokenizers<0.22,>=0.21 in /usr/local/lib/python3.11/dist-packages (from transformers) (0.21.1)\n",
      "Requirement already satisfied: safetensors>=0.4.3 in /usr/local/lib/python3.11/dist-packages (from transformers) (0.5.3)\n",
      "Requirement already satisfied: tqdm>=4.27 in /usr/local/lib/python3.11/dist-packages (from transformers) (4.67.1)\n",
      "Requirement already satisfied: psutil in /usr/local/lib/python3.11/dist-packages (from accelerate) (7.0.0)\n",
      "Requirement already satisfied: torch>=2.0.0 in /usr/local/lib/python3.11/dist-packages (from accelerate) (2.6.0+cu124)\n",
      "Requirement already satisfied: fsspec>=2023.5.0 in /usr/local/lib/python3.11/dist-packages (from huggingface-hub<1.0,>=0.30.0->transformers) (2025.3.0)\n",
      "Requirement already satisfied: typing-extensions>=3.7.4.3 in /usr/local/lib/python3.11/dist-packages (from huggingface-hub<1.0,>=0.30.0->transformers) (4.13.2)\n",
      "Requirement already satisfied: hf-xet<2.0.0,>=1.1.0 in /usr/local/lib/python3.11/dist-packages (from huggingface-hub<1.0,>=0.30.0->transformers) (1.1.0)\n",
      "Requirement already satisfied: mkl_fft in /usr/local/lib/python3.11/dist-packages (from numpy>=1.17->transformers) (1.3.8)\n",
      "Requirement already satisfied: mkl_random in /usr/local/lib/python3.11/dist-packages (from numpy>=1.17->transformers) (1.2.4)\n",
      "Requirement already satisfied: mkl_umath in /usr/local/lib/python3.11/dist-packages (from numpy>=1.17->transformers) (0.1.1)\n",
      "Requirement already satisfied: mkl in /usr/local/lib/python3.11/dist-packages (from numpy>=1.17->transformers) (2025.1.0)\n",
      "Requirement already satisfied: tbb4py in /usr/local/lib/python3.11/dist-packages (from numpy>=1.17->transformers) (2022.1.0)\n",
      "Requirement already satisfied: mkl-service in /usr/local/lib/python3.11/dist-packages (from numpy>=1.17->transformers) (2.4.1)\n",
      "Requirement already satisfied: networkx in /usr/local/lib/python3.11/dist-packages (from torch>=2.0.0->accelerate) (3.4.2)\n",
      "Requirement already satisfied: jinja2 in /usr/local/lib/python3.11/dist-packages (from torch>=2.0.0->accelerate) (3.1.6)\n",
      "Requirement already satisfied: nvidia-cuda-nvrtc-cu12==12.4.127 in /usr/local/lib/python3.11/dist-packages (from torch>=2.0.0->accelerate) (12.4.127)\n",
      "Requirement already satisfied: nvidia-cuda-runtime-cu12==12.4.127 in /usr/local/lib/python3.11/dist-packages (from torch>=2.0.0->accelerate) (12.4.127)\n",
      "Requirement already satisfied: nvidia-cuda-cupti-cu12==12.4.127 in /usr/local/lib/python3.11/dist-packages (from torch>=2.0.0->accelerate) (12.4.127)\n",
      "Requirement already satisfied: nvidia-cudnn-cu12==9.1.0.70 in /usr/local/lib/python3.11/dist-packages (from torch>=2.0.0->accelerate) (9.1.0.70)\n",
      "Requirement already satisfied: nvidia-cublas-cu12==12.4.5.8 in /usr/local/lib/python3.11/dist-packages (from torch>=2.0.0->accelerate) (12.4.5.8)\n",
      "Requirement already satisfied: nvidia-cufft-cu12==11.2.1.3 in /usr/local/lib/python3.11/dist-packages (from torch>=2.0.0->accelerate) (11.2.1.3)\n",
      "Requirement already satisfied: nvidia-curand-cu12==10.3.5.147 in /usr/local/lib/python3.11/dist-packages (from torch>=2.0.0->accelerate) (10.3.5.147)\n",
      "Requirement already satisfied: nvidia-cusolver-cu12==11.6.1.9 in /usr/local/lib/python3.11/dist-packages (from torch>=2.0.0->accelerate) (11.6.1.9)\n",
      "Requirement already satisfied: nvidia-cusparse-cu12==12.3.1.170 in /usr/local/lib/python3.11/dist-packages (from torch>=2.0.0->accelerate) (12.3.1.170)\n",
      "Requirement already satisfied: nvidia-cusparselt-cu12==0.6.2 in /usr/local/lib/python3.11/dist-packages (from torch>=2.0.0->accelerate) (0.6.2)\n",
      "Requirement already satisfied: nvidia-nccl-cu12==2.21.5 in /usr/local/lib/python3.11/dist-packages (from torch>=2.0.0->accelerate) (2.21.5)\n",
      "Requirement already satisfied: nvidia-nvtx-cu12==12.4.127 in /usr/local/lib/python3.11/dist-packages (from torch>=2.0.0->accelerate) (12.4.127)\n",
      "Requirement already satisfied: nvidia-nvjitlink-cu12==12.4.127 in /usr/local/lib/python3.11/dist-packages (from torch>=2.0.0->accelerate) (12.4.127)\n",
      "Requirement already satisfied: triton==3.2.0 in /usr/local/lib/python3.11/dist-packages (from torch>=2.0.0->accelerate) (3.2.0)\n",
      "Requirement already satisfied: sympy==1.13.1 in /usr/local/lib/python3.11/dist-packages (from torch>=2.0.0->accelerate) (1.13.1)\n",
      "Requirement already satisfied: mpmath<1.4,>=1.1.0 in /usr/local/lib/python3.11/dist-packages (from sympy==1.13.1->torch>=2.0.0->accelerate) (1.3.0)\n",
      "Requirement already satisfied: charset-normalizer<4,>=2 in /usr/local/lib/python3.11/dist-packages (from requests->transformers) (3.4.2)\n",
      "Requirement already satisfied: idna<4,>=2.5 in /usr/local/lib/python3.11/dist-packages (from requests->transformers) (3.10)\n",
      "Requirement already satisfied: urllib3<3,>=1.21.1 in /usr/local/lib/python3.11/dist-packages (from requests->transformers) (2.4.0)\n",
      "Requirement already satisfied: certifi>=2017.4.17 in /usr/local/lib/python3.11/dist-packages (from requests->transformers) (2025.4.26)\n",
      "Requirement already satisfied: MarkupSafe>=2.0 in /usr/local/lib/python3.11/dist-packages (from jinja2->torch>=2.0.0->accelerate) (3.0.2)\n",
      "Requirement already satisfied: intel-openmp<2026,>=2024 in /usr/local/lib/python3.11/dist-packages (from mkl->numpy>=1.17->transformers) (2024.2.0)\n",
      "Requirement already satisfied: tbb==2022.* in /usr/local/lib/python3.11/dist-packages (from mkl->numpy>=1.17->transformers) (2022.1.0)\n",
      "Requirement already satisfied: tcmlib==1.* in /usr/local/lib/python3.11/dist-packages (from tbb==2022.*->mkl->numpy>=1.17->transformers) (1.3.0)\n",
      "Requirement already satisfied: intel-cmplr-lib-rt in /usr/local/lib/python3.11/dist-packages (from mkl_umath->numpy>=1.17->transformers) (2024.2.0)\n",
      "Requirement already satisfied: intel-cmplr-lib-ur==2024.2.0 in /usr/local/lib/python3.11/dist-packages (from intel-openmp<2026,>=2024->mkl->numpy>=1.17->transformers) (2024.2.0)\n",
      "Downloading transformers-4.52.4-py3-none-any.whl (10.5 MB)\n",
      "\u001b[2K   \u001b[90m━━━━━━━━━━━━━━━━━━━━━━━━━━━━━━━━━━━━━━━━\u001b[0m \u001b[32m10.5/10.5 MB\u001b[0m \u001b[31m78.8 MB/s\u001b[0m eta \u001b[36m0:00:00\u001b[0m:00:01\u001b[0m0:01\u001b[0m\n",
      "\u001b[?25hDownloading accelerate-1.7.0-py3-none-any.whl (362 kB)\n",
      "\u001b[2K   \u001b[90m━━━━━━━━━━━━━━━━━━━━━━━━━━━━━━━━━━━━━━━━\u001b[0m \u001b[32m362.1/362.1 kB\u001b[0m \u001b[31m24.9 MB/s\u001b[0m eta \u001b[36m0:00:00\u001b[0m\n",
      "\u001b[?25hInstalling collected packages: transformers, accelerate\n",
      "  Attempting uninstall: transformers\n",
      "    Found existing installation: transformers 4.51.3\n",
      "    Uninstalling transformers-4.51.3:\n",
      "      Successfully uninstalled transformers-4.51.3\n",
      "  Attempting uninstall: accelerate\n",
      "    Found existing installation: accelerate 1.5.2\n",
      "    Uninstalling accelerate-1.5.2:\n",
      "      Successfully uninstalled accelerate-1.5.2\n",
      "Successfully installed accelerate-1.7.0 transformers-4.52.4\n"
     ]
    }
   ],
   "source": [
    "!pip install \\\n",
    "accelerate \\\n",
    "peft \\\n",
    "bitsandbytes \\\n",
    "transformers \\\n",
    "trl \\\n",
    "triton\n",
    "!pip install --upgrade transformers accelerate"
   ]
  },
  {
   "cell_type": "markdown",
   "metadata": {
    "id": "ZiLgmJIs0j5l"
   },
   "source": [
    "Import all required libraries"
   ]
  },
  {
   "cell_type": "code",
   "execution_count": 2,
   "metadata": {
    "execution": {
     "iopub.execute_input": "2025-06-02T06:23:55.774823Z",
     "iopub.status.busy": "2025-06-02T06:23:55.774587Z",
     "iopub.status.idle": "2025-06-02T06:24:23.753882Z",
     "shell.execute_reply": "2025-06-02T06:24:23.753100Z",
     "shell.execute_reply.started": "2025-06-02T06:23:55.774801Z"
    },
    "id": "Bc-x19alzl4M",
    "trusted": true
   },
   "outputs": [
    {
     "name": "stderr",
     "output_type": "stream",
     "text": [
      "2025-06-02 06:24:07.109619: E external/local_xla/xla/stream_executor/cuda/cuda_fft.cc:477] Unable to register cuFFT factory: Attempting to register factory for plugin cuFFT when one has already been registered\n",
      "WARNING: All log messages before absl::InitializeLog() is called are written to STDERR\n",
      "E0000 00:00:1748845447.331969      35 cuda_dnn.cc:8310] Unable to register cuDNN factory: Attempting to register factory for plugin cuDNN when one has already been registered\n",
      "E0000 00:00:1748845447.387540      35 cuda_blas.cc:1418] Unable to register cuBLAS factory: Attempting to register factory for plugin cuBLAS when one has already been registered\n"
     ]
    }
   ],
   "source": [
    "import os\n",
    "import torch\n",
    "from datasets import load_dataset\n",
    "from transformers import(\n",
    "    AutoModelForCausalLM,\n",
    "    AutoTokenizer,\n",
    "    BitsAndBytesConfig,\n",
    "    HfArgumentParser,\n",
    "    TrainingArguments,\n",
    "    pipeline,\n",
    "    logging\n",
    ")\n",
    "from peft import  LoraConfig, PeftModel\n",
    "from trl import SFTTrainer"
   ]
  },
  {
   "cell_type": "markdown",
   "metadata": {
    "id": "5Ty9MhoI1OAa"
   },
   "source": [
    "In case of Llama 2, the following prompt templae is used for the chat models.\n",
    "\n",
    "System Prompt(optional) to guide the model\n",
    "User prompt(required) to give the instruction\n",
    "Model Answer (required)\n",
    "\n",
    "\n"
   ]
  },
  {
   "cell_type": "code",
   "execution_count": 3,
   "metadata": {
    "execution": {
     "iopub.execute_input": "2025-06-02T06:24:23.755255Z",
     "iopub.status.busy": "2025-06-02T06:24:23.754720Z",
     "iopub.status.idle": "2025-06-02T06:24:23.758542Z",
     "shell.execute_reply": "2025-06-02T06:24:23.757999Z",
     "shell.execute_reply.started": "2025-06-02T06:24:23.755229Z"
    },
    "id": "3Gmx2sWV0jJf",
    "trusted": true
   },
   "outputs": [],
   "source": [
    "# <s> [INST] <<SYS>>\n",
    "# System prompt\n",
    "# <</SYS>>\n",
    "\n",
    "# User Prompt [/INS] Model answer </s>"
   ]
  },
  {
   "cell_type": "markdown",
   "metadata": {
    "id": "Qn7L-j-S2CaG"
   },
   "source": [
    "We will reformat our instruction dataset fo follow Llama 2 template"
   ]
  },
  {
   "cell_type": "markdown",
   "metadata": {
    "id": "DEcylNBP3WMp"
   },
   "source": [
    "* Original dataset: https://huggingface.co/datasets/Amod/mental_health_counseling_conversations"
   ]
  },
  {
   "cell_type": "markdown",
   "metadata": {
    "id": "80aGH-2h5y4n"
   },
   "source": [
    "How to fine tune Llama 2"
   ]
  },
  {
   "cell_type": "markdown",
   "metadata": {
    "id": "B1z51sh-53ay"
   },
   "source": [
    "* Free Google Colab offers a 15GB Graphics Card (Limited Resource -> Barely enough to store Llama 2-7b's weight).\n",
    "\n",
    "* We also need to consider the overhead due to optimizer states, gradient, and forward action activations.\n",
    "\n",
    "* Full fine tuning is not possible here: we need parameter-efficient fine-tuning (PEFT) techquies like LoRA, QLoRA.\n",
    "\n",
    "* To drastically reduce the VRAM usage, we must fine-tune the model in 4-bit precision, which is why we'll use LoRA and QLoRA here."
   ]
  },
  {
   "cell_type": "markdown",
   "metadata": {
    "id": "yuC_JrZPFoLD"
   },
   "source": [
    "1. Load llama2-7b model\n",
    "2. Train it on the mlabonne/guanaco-llama2-1k which produce oru fine tuned lamma-2-7b-chat-finetune"
   ]
  },
  {
   "cell_type": "markdown",
   "metadata": {
    "id": "Jz_S2h6BF_Vf"
   },
   "source": [
    "QLoRA will use a rank of 64 with scaling parameter of 16. We'll load the Llama 2 model directly in 4-bit precision using the NF4 type and train it for one epoch"
   ]
  },
  {
   "cell_type": "code",
   "execution_count": null,
   "metadata": {
    "execution": {
     "iopub.execute_input": "2025-06-02T06:24:23.761224Z",
     "iopub.status.busy": "2025-06-02T06:24:23.760782Z",
     "iopub.status.idle": "2025-06-02T06:24:23.774180Z",
     "shell.execute_reply": "2025-06-02T06:24:23.773648Z",
     "shell.execute_reply.started": "2025-06-02T06:24:23.761208Z"
    },
    "id": "-40Pu40e2HBX",
    "trusted": true
   },
   "outputs": [],
   "source": [
    "model_name = \"NousResearch/Llama-2-7b-chat-hf\"\n",
    "\n",
    "# dataset_name = \"mlabonne/guanaco-llama2-1k\"\n",
    "dataset_name = \"Amod/mental_health_counseling_convergit isations\"\n",
    "\n",
    "model_fine_tune_name = \"Llama-2-7b-chat-hf-finetune\""
   ]
  },
  {
   "cell_type": "code",
   "execution_count": 5,
   "metadata": {
    "execution": {
     "iopub.execute_input": "2025-06-02T06:24:23.775187Z",
     "iopub.status.busy": "2025-06-02T06:24:23.774927Z",
     "iopub.status.idle": "2025-06-02T06:24:23.787050Z",
     "shell.execute_reply": "2025-06-02T06:24:23.786374Z",
     "shell.execute_reply.started": "2025-06-02T06:24:23.775168Z"
    },
    "id": "7KiGqwBmHWYi",
    "trusted": true
   },
   "outputs": [],
   "source": [
    "## QLoRA parameters\n",
    "lora_r = 8  # rank\n",
    "lora_alpha = 16\n",
    "lora_dropout = 0.1\n",
    "\n",
    "## bitsandbytes parameters\n",
    "use_4bit = True # activation 4-bit precision model base model loading\n",
    "bnb_4bit_compute_dtype = 'float16' # compute dtype for 4-bit base models\n",
    "bnb_4bit_quant_type = 'nf4' # Quantization type (fp4 or nf4)\n",
    "use_nested_quant = False # activate nested quantization for 4-bit base models\n",
    "\n",
    "## TrainingArguments Parameter\n",
    "\n",
    "output_dir = \"./results\"\n",
    "num_train_epochs = 1\n",
    "# Enable fp16/bp16 training\n",
    "fp16 = True\n",
    "bf16 = False\n",
    "\n",
    "per_device_train_batch_size = 1\n",
    "\n",
    "per_device_eval_batch_size = 1\n",
    "\n",
    "gradient_accmulation_steps = 4\n",
    "\n",
    "gradient_checkpointing = True\n",
    "\n",
    "max_grad_norm = 0.3 # Maximum gradient normal (gradient clipping)\n",
    "\n",
    "learning_rate = 2e-4 # Initial learning rate (AdamW optimizer)\n",
    "\n",
    "weight_decay = 0.001\n",
    "\n",
    "optim = \"paged_adamw_32bit\" # optimizer to use\n",
    "\n",
    "lr_schedule_type = \"cosine\" # Learning rate schedule\n",
    "\n",
    "max_steps = -1 # No of training steps (override train epcohs)\n",
    "\n",
    "warmup_ratio = 0.03 # Ratio of steps for a linear warmup (from 0 to learning rate)\n",
    "\n",
    "group_by_length = True # group sequences into batches with same length\n",
    "\n",
    "save_steps = 0\n",
    "\n",
    "logging_steps = 25\n",
    "\n",
    "## STF Parameter\n",
    "\n",
    "max_seq_length = None\n",
    "packing = False # pack multiple short example in the same input sequence to increase efficency\n",
    "device_map = {\"\": 0} # Load the entire model on the GPU 0"
   ]
  },
  {
   "cell_type": "markdown",
   "metadata": {
    "id": "6a3AF_iPLdUq"
   },
   "source": [
    "Load everything and start the fine-tuning process"
   ]
  },
  {
   "cell_type": "markdown",
   "metadata": {
    "id": "PShBkOBNLk7F"
   },
   "source": [
    "1. First of all we want to load the dataset we defined. Here our dataset is already preprocessed but, usually this is where you would reformat the prompt, filter out bax text, combine multiple datasets, etc.\n",
    "\n",
    "2. Then, we're configuring bitsandbytes for 4-bit quantization.\n",
    "\n",
    "3. Next, we're loading the Llama 2 model in 4-bit precision on a GPU with the corresponding tokenizer.\n",
    "\n",
    "4. Finally, we're loading configurations for QLoRA, regular training parameters, and passing everything to the STF traniner. The training can finally start."
   ]
  },
  {
   "cell_type": "code",
   "execution_count": 6,
   "metadata": {
    "colab": {
     "base_uri": "https://localhost:8080/",
     "height": 237,
     "referenced_widgets": [
      "25c3d8c78f764ba1aaee8bf81833f1b2",
      "72df7b1116cd44dab84e20a8912b9a35",
      "ee066e40787b44b6865a3434fae101b1",
      "6233455f35434e1db67851fe5d51167b",
      "d7ca003820a340c1a337b74a4cef29ca",
      "65ab6e82e4cf47069196d289c8bd83f0",
      "8296450327ea48e99eb8918731432294",
      "6a85fc5754a74abe8b0d39d932c3bd38",
      "97880d28ba654b3e9d5276b727fadc15",
      "cf17d2f4248640809b49984a61fc6f12",
      "6713beb2ae9b46d48f34b1e7fa909d5f",
      "8b135e2c4bc74b05a3c08d79b3d0aff5",
      "21d29caef58b40b09e8e3db17ccaccbb",
      "b3f8c1aa867244d28dd279ee384e9c2f",
      "2060211f4ee44425bd26a594df540cf4",
      "3a65e4a6363c46b5831bd0322becbc8d",
      "9933df8d3d684ec29427027f72645b13",
      "af09604610244e6a8635276bc46d3e9c",
      "9f04751fc4fc4143b7a50896af4ec957",
      "5bc5d4dac59442a686b64885f3217c42",
      "72d1cd61738548e9beec311cfb807c07",
      "608bda138cff476eb3771bf7208e7d9e",
      "796b1242b1864f6e91da13ed13a5aa73",
      "811d7501e6b64427ad9877878c78d366",
      "00f7f4bcde354af1882e845626f74164",
      "2274b57f6e06430d8a261110f78a6048",
      "c7a01536e5904fbdbb110763714c05a3",
      "01357a07bdf64b5aa1104d05219645d5",
      "6e9ba54225bc4eac94375c71056323c7",
      "18ca682871f94548b8a97300ba14da10",
      "d12b4b59e5134abcabfcee581b64b48a",
      "19b3bae5a6664b19a2a69de776acf1f3",
      "dce0d58b580543759140f1874f2d5fbe"
     ]
    },
    "execution": {
     "iopub.execute_input": "2025-06-02T06:24:23.787982Z",
     "iopub.status.busy": "2025-06-02T06:24:23.787785Z",
     "iopub.status.idle": "2025-06-02T06:24:25.165328Z",
     "shell.execute_reply": "2025-06-02T06:24:25.164833Z",
     "shell.execute_reply.started": "2025-06-02T06:24:23.787967Z"
    },
    "id": "O2HMHf4zLXqG",
    "outputId": "32d2055f-9e7f-4a0b-8e99-92e4b1861f79",
    "trusted": true
   },
   "outputs": [
    {
     "data": {
      "application/vnd.jupyter.widget-view+json": {
       "model_id": "9e877f8daf3341a594484ff81a16436b",
       "version_major": 2,
       "version_minor": 0
      },
      "text/plain": [
       "README.md:   0%|          | 0.00/2.82k [00:00<?, ?B/s]"
      ]
     },
     "metadata": {},
     "output_type": "display_data"
    },
    {
     "data": {
      "application/vnd.jupyter.widget-view+json": {
       "model_id": "c897209363d24bc3a463e67344158211",
       "version_major": 2,
       "version_minor": 0
      },
      "text/plain": [
       "combined_dataset.json:   0%|          | 0.00/4.79M [00:00<?, ?B/s]"
      ]
     },
     "metadata": {},
     "output_type": "display_data"
    },
    {
     "data": {
      "application/vnd.jupyter.widget-view+json": {
       "model_id": "697f8ad072454725aa3483fb68059490",
       "version_major": 2,
       "version_minor": 0
      },
      "text/plain": [
       "Generating train split:   0%|          | 0/3512 [00:00<?, ? examples/s]"
      ]
     },
     "metadata": {},
     "output_type": "display_data"
    }
   ],
   "source": [
    "# Load the dataset (you can process it here)\n",
    "dataset = load_dataset(dataset_name, split='train')"
   ]
  },
  {
   "cell_type": "code",
   "execution_count": 7,
   "metadata": {
    "colab": {
     "base_uri": "https://localhost:8080/"
    },
    "execution": {
     "iopub.execute_input": "2025-06-02T06:24:25.166612Z",
     "iopub.status.busy": "2025-06-02T06:24:25.166323Z",
     "iopub.status.idle": "2025-06-02T06:24:25.177928Z",
     "shell.execute_reply": "2025-06-02T06:24:25.177351Z",
     "shell.execute_reply.started": "2025-06-02T06:24:25.166587Z"
    },
    "id": "YTZjdHWU698F",
    "outputId": "71ff8434-6236-4dc2-84ff-e246022498f1",
    "trusted": true
   },
   "outputs": [
    {
     "data": {
      "text/plain": [
       "[\"If everyone thinks you're worthless, then maybe you need to find new people to hang out with.Seriously, the social context in which a person lives is a big influence in self-esteem.Otherwise, you can go round and round trying to understand why you're not worthless, then go back to the same crowd and be knocked down again.There are many inspirational messages you can find in social media. \\xa0Maybe read some of the ones which state that no person is worthless, and that everyone has a good purpose to their life.Also, since our culture is so saturated with the belief that if someone doesn't feel good about themselves that this is somehow terrible.Bad feelings are part of living. \\xa0They are the motivation to remove ourselves from situations and relationships which do us more harm than good.Bad feelings do feel terrible. \\xa0 Your feeling of worthlessness may be good in the sense of motivating you to find out that you are much better than your feelings today.\"]"
      ]
     },
     "execution_count": 7,
     "metadata": {},
     "output_type": "execute_result"
    }
   ],
   "source": [
    "dataset['Response'][:1]"
   ]
  },
  {
   "cell_type": "code",
   "execution_count": 8,
   "metadata": {
    "colab": {
     "base_uri": "https://localhost:8080/"
    },
    "execution": {
     "iopub.execute_input": "2025-06-02T06:24:25.179030Z",
     "iopub.status.busy": "2025-06-02T06:24:25.178686Z",
     "iopub.status.idle": "2025-06-02T06:24:25.195069Z",
     "shell.execute_reply": "2025-06-02T06:24:25.194314Z",
     "shell.execute_reply.started": "2025-06-02T06:24:25.179013Z"
    },
    "id": "j0lMDsGCMvoL",
    "outputId": "0e3c1047-2948-42d7-93f5-9a0a9c0a1b1d",
    "trusted": true
   },
   "outputs": [
    {
     "data": {
      "text/plain": [
       "[\"I'm going through some things with my feelings and myself. I barely sleep and I do nothing but think about how I'm worthless and how I shouldn't be here.\\n   I've never tried or contemplated suicide. I've always wanted to fix my issues, but I never get around to it.\\n   How can I change my feeling of being worthless to everyone?\"]"
      ]
     },
     "execution_count": 8,
     "metadata": {},
     "output_type": "execute_result"
    }
   ],
   "source": [
    "dataset['Context'][:1]"
   ]
  },
  {
   "cell_type": "code",
   "execution_count": 9,
   "metadata": {
    "execution": {
     "iopub.execute_input": "2025-06-02T06:24:25.196093Z",
     "iopub.status.busy": "2025-06-02T06:24:25.195861Z",
     "iopub.status.idle": "2025-06-02T06:24:25.206027Z",
     "shell.execute_reply": "2025-06-02T06:24:25.205428Z",
     "shell.execute_reply.started": "2025-06-02T06:24:25.196072Z"
    },
    "id": "yVAGEvnY8EM-",
    "trusted": true
   },
   "outputs": [],
   "source": [
    "def format_dataset(data):\n",
    "  formated_data = {'text': f\"###user: {data['Context']}\\n###psychologist: {data['Response']}\"}\n",
    "  return formated_data"
   ]
  },
  {
   "cell_type": "code",
   "execution_count": 10,
   "metadata": {
    "colab": {
     "base_uri": "https://localhost:8080/",
     "height": 49,
     "referenced_widgets": [
      "d037721041464401b657d771de4e56f8",
      "c0895834fbe0484f8d6cb2684b30fe0a",
      "c55908dacb484fa99f42ad3aec5bd957",
      "132addd1f7be40b790c22f7b721c97d2",
      "5eb8c8fddff14c4db642fc37d8b1386b",
      "d2128d9978e946b59c7b283112eb1f1e",
      "df30cf11f9854eb9a907b4412c5e5534",
      "45b290a1c197403890ff510d396a7e2b",
      "57eedea1761841a4a3523dec0e42297e",
      "69be82e6c30949539547a83b969f094d",
      "131d39796f9f4cac9e1c4c84db902df4"
     ]
    },
    "execution": {
     "iopub.execute_input": "2025-06-02T06:24:25.208786Z",
     "iopub.status.busy": "2025-06-02T06:24:25.208548Z",
     "iopub.status.idle": "2025-06-02T06:24:25.414267Z",
     "shell.execute_reply": "2025-06-02T06:24:25.413298Z",
     "shell.execute_reply.started": "2025-06-02T06:24:25.208765Z"
    },
    "id": "6PlK4qPh8ZCH",
    "outputId": "6e55f40a-f5d0-46d2-a2e4-347199890ef8",
    "trusted": true
   },
   "outputs": [
    {
     "data": {
      "application/vnd.jupyter.widget-view+json": {
       "model_id": "81a43b67c0754d39924780d1f2dadf01",
       "version_major": 2,
       "version_minor": 0
      },
      "text/plain": [
       "Map:   0%|          | 0/3512 [00:00<?, ? examples/s]"
      ]
     },
     "metadata": {},
     "output_type": "display_data"
    }
   ],
   "source": [
    "dataset = dataset.map(format_dataset)"
   ]
  },
  {
   "cell_type": "code",
   "execution_count": 11,
   "metadata": {
    "colab": {
     "base_uri": "https://localhost:8080/"
    },
    "execution": {
     "iopub.execute_input": "2025-06-02T06:24:25.415256Z",
     "iopub.status.busy": "2025-06-02T06:24:25.415055Z",
     "iopub.status.idle": "2025-06-02T06:24:25.428003Z",
     "shell.execute_reply": "2025-06-02T06:24:25.427244Z",
     "shell.execute_reply.started": "2025-06-02T06:24:25.415241Z"
    },
    "id": "MOC_wo6_8opq",
    "outputId": "01ade044-8e31-4ef5-82ef-c0e33164f101",
    "trusted": true
   },
   "outputs": [
    {
     "data": {
      "text/plain": [
       "[\"###user: I'm going through some things with my feelings and myself. I barely sleep and I do nothing but think about how I'm worthless and how I shouldn't be here.\\n   I've never tried or contemplated suicide. I've always wanted to fix my issues, but I never get around to it.\\n   How can I change my feeling of being worthless to everyone?\\n###psychologist: If everyone thinks you're worthless, then maybe you need to find new people to hang out with.Seriously, the social context in which a person lives is a big influence in self-esteem.Otherwise, you can go round and round trying to understand why you're not worthless, then go back to the same crowd and be knocked down again.There are many inspirational messages you can find in social media. \\xa0Maybe read some of the ones which state that no person is worthless, and that everyone has a good purpose to their life.Also, since our culture is so saturated with the belief that if someone doesn't feel good about themselves that this is somehow terrible.Bad feelings are part of living. \\xa0They are the motivation to remove ourselves from situations and relationships which do us more harm than good.Bad feelings do feel terrible. \\xa0 Your feeling of worthlessness may be good in the sense of motivating you to find out that you are much better than your feelings today.\",\n",
       " '###user: I\\'m going through some things with my feelings and myself. I barely sleep and I do nothing but think about how I\\'m worthless and how I shouldn\\'t be here.\\n   I\\'ve never tried or contemplated suicide. I\\'ve always wanted to fix my issues, but I never get around to it.\\n   How can I change my feeling of being worthless to everyone?\\n###psychologist: Hello, and thank you for your question and seeking advice on this. Feelings of worthlessness is unfortunately common. In fact, most people, if not all, have felt this to some degree at some point in their life. You are not alone.\\xa0Changing our feelings is like changing our thoughts - it\\'s hard to do. Our minds are so amazing that the minute you change your thought another one can be right there to take it\\'s place. Without your permission, another thought can just pop in there. The new thought may feel worse than the last one! My guess is that you have tried several things to improve this on your own even before reaching out on here. People often try thinking positive thoughts, debating with their thoughts, or simply telling themselves that they need to \"snap out of it\" - which is also a thought that carries some self-criticism.\\xa0Some people try a different approach, and there are counselors out there that can help you with this. The idea is that instead of trying to change the thoughts, you change how you respond to them. You learn skills that allow you to manage difficult thoughts and feelings differently so they don\\'t have the same impact on you that they do right now. For some people, they actually DO begin to experience less hurtful thoughts once they learn how to manage the ones they have differently. Acceptance and Commitment Therapy may be a good choice for you.\\xa0There is information online and even self-help books that you can use to teach you the skills that I mentioned. Because they are skills, they require practice, but many people have found great relief and an enriched life by learning them.\\xa0As for suicidal thoughts, I am very glad to read that this has not happened to you. Still, you should watch out for this because it can be a sign of a worsening depression. If you begin to think about this, it is important to reach out to a support system right away. The National Suicide Prevention Lifeline is 1-800-273-8255. The text line is #741741.\\xa0I hope some other colleagues will provide you more suggestions.\\xa0Be well...Robin Landwehr, DBH, LPCC',\n",
       " \"###user: I'm going through some things with my feelings and myself. I barely sleep and I do nothing but think about how I'm worthless and how I shouldn't be here.\\n   I've never tried or contemplated suicide. I've always wanted to fix my issues, but I never get around to it.\\n   How can I change my feeling of being worthless to everyone?\\n###psychologist: First thing I'd suggest is getting the sleep you need or it will impact how you think and feel. I'd look at finding what is going well in your life and what you can be grateful for. I believe everyone has talents and wants to find their purpose in life. I think you can figure it out with some help.\"]"
      ]
     },
     "execution_count": 11,
     "metadata": {},
     "output_type": "execute_result"
    }
   ],
   "source": [
    "dataset['text'][:3]"
   ]
  },
  {
   "cell_type": "code",
   "execution_count": 12,
   "metadata": {
    "execution": {
     "iopub.execute_input": "2025-06-02T06:24:25.428866Z",
     "iopub.status.busy": "2025-06-02T06:24:25.428690Z",
     "iopub.status.idle": "2025-06-02T06:24:25.458456Z",
     "shell.execute_reply": "2025-06-02T06:24:25.457771Z",
     "shell.execute_reply.started": "2025-06-02T06:24:25.428852Z"
    },
    "id": "RbdaA-wpMz-o",
    "trusted": true
   },
   "outputs": [],
   "source": [
    "compute_type = getattr(torch, bnb_4bit_compute_dtype)"
   ]
  },
  {
   "cell_type": "code",
   "execution_count": 13,
   "metadata": {
    "colab": {
     "base_uri": "https://localhost:8080/"
    },
    "execution": {
     "iopub.execute_input": "2025-06-02T06:24:25.459656Z",
     "iopub.status.busy": "2025-06-02T06:24:25.459329Z",
     "iopub.status.idle": "2025-06-02T06:24:25.470407Z",
     "shell.execute_reply": "2025-06-02T06:24:25.469786Z",
     "shell.execute_reply.started": "2025-06-02T06:24:25.459640Z"
    },
    "id": "CA04fXZUNAAB",
    "outputId": "cc674ebf-bcab-4efc-efb5-3207a17126ab",
    "trusted": true
   },
   "outputs": [
    {
     "data": {
      "text/plain": [
       "torch.float16"
      ]
     },
     "execution_count": 13,
     "metadata": {},
     "output_type": "execute_result"
    }
   ],
   "source": [
    "compute_type"
   ]
  },
  {
   "cell_type": "code",
   "execution_count": 14,
   "metadata": {
    "execution": {
     "iopub.execute_input": "2025-06-02T06:24:25.471441Z",
     "iopub.status.busy": "2025-06-02T06:24:25.471207Z",
     "iopub.status.idle": "2025-06-02T06:24:25.481769Z",
     "shell.execute_reply": "2025-06-02T06:24:25.481196Z",
     "shell.execute_reply.started": "2025-06-02T06:24:25.471420Z"
    },
    "id": "2l0pdrngM-3Q",
    "trusted": true
   },
   "outputs": [],
   "source": [
    "bnb_config = BitsAndBytesConfig(\n",
    "    load_in_4bit=use_4bit,\n",
    "    bnb_4bit_quant_type=bnb_4bit_quant_type,\n",
    "    bnb_4bit_compute_dtype=compute_type,\n",
    "    bnb_4bit_use_double_quant=use_nested_quant\n",
    ")"
   ]
  },
  {
   "cell_type": "code",
   "execution_count": 15,
   "metadata": {
    "colab": {
     "base_uri": "https://localhost:8080/",
     "height": 356
    },
    "execution": {
     "iopub.execute_input": "2025-06-02T06:24:25.482721Z",
     "iopub.status.busy": "2025-06-02T06:24:25.482547Z",
     "iopub.status.idle": "2025-06-02T06:24:25.489770Z",
     "shell.execute_reply": "2025-06-02T06:24:25.488988Z",
     "shell.execute_reply.started": "2025-06-02T06:24:25.482709Z"
    },
    "id": "6OQ2QhxeN-Tx",
    "outputId": "91511ce7-f3c1-4936-f7c1-e4773529c558",
    "trusted": true
   },
   "outputs": [
    {
     "name": "stdout",
     "output_type": "stream",
     "text": [
      "Major is 7\n"
     ]
    }
   ],
   "source": [
    "# Check GPU compatibility with bfloat16\n",
    "if compute_type == torch.float16 and use_4bit:\n",
    "  major, _ = torch.cuda.get_device_capability()\n",
    "  if major >= 8:\n",
    "    print(\"=\" * 80)\n",
    "    print(\"Your GPU support bfloat16: accelerate training with bf16=True\")\n",
    "  else:\n",
    "    print(f\"Major is {major}\")"
   ]
  },
  {
   "cell_type": "code",
   "execution_count": 16,
   "metadata": {
    "execution": {
     "iopub.execute_input": "2025-06-02T06:24:25.490577Z",
     "iopub.status.busy": "2025-06-02T06:24:25.490366Z",
     "iopub.status.idle": "2025-06-02T06:25:42.482058Z",
     "shell.execute_reply": "2025-06-02T06:25:42.481286Z",
     "shell.execute_reply.started": "2025-06-02T06:24:25.490558Z"
    },
    "id": "fNzaehdNO9jB",
    "trusted": true
   },
   "outputs": [
    {
     "data": {
      "application/vnd.jupyter.widget-view+json": {
       "model_id": "65e187176f7c43c7aae09c442707fe8d",
       "version_major": 2,
       "version_minor": 0
      },
      "text/plain": [
       "config.json:   0%|          | 0.00/583 [00:00<?, ?B/s]"
      ]
     },
     "metadata": {},
     "output_type": "display_data"
    },
    {
     "data": {
      "application/vnd.jupyter.widget-view+json": {
       "model_id": "62c8e30450b14c80a0fc27d02a9450b8",
       "version_major": 2,
       "version_minor": 0
      },
      "text/plain": [
       "model.safetensors.index.json:   0%|          | 0.00/26.8k [00:00<?, ?B/s]"
      ]
     },
     "metadata": {},
     "output_type": "display_data"
    },
    {
     "data": {
      "application/vnd.jupyter.widget-view+json": {
       "model_id": "6d33daf9510d45569e2aa9342d63e024",
       "version_major": 2,
       "version_minor": 0
      },
      "text/plain": [
       "Fetching 2 files:   0%|          | 0/2 [00:00<?, ?it/s]"
      ]
     },
     "metadata": {},
     "output_type": "display_data"
    },
    {
     "data": {
      "application/vnd.jupyter.widget-view+json": {
       "model_id": "d969998a05d944fea18db7acd6f6ed38",
       "version_major": 2,
       "version_minor": 0
      },
      "text/plain": [
       "model-00001-of-00002.safetensors:   0%|          | 0.00/9.98G [00:00<?, ?B/s]"
      ]
     },
     "metadata": {},
     "output_type": "display_data"
    },
    {
     "data": {
      "application/vnd.jupyter.widget-view+json": {
       "model_id": "7f8dded6ad9a490180cbcd1d155df683",
       "version_major": 2,
       "version_minor": 0
      },
      "text/plain": [
       "model-00002-of-00002.safetensors:   0%|          | 0.00/3.50G [00:00<?, ?B/s]"
      ]
     },
     "metadata": {},
     "output_type": "display_data"
    },
    {
     "data": {
      "application/vnd.jupyter.widget-view+json": {
       "model_id": "0df864cd523142f2899493ece5a1d643",
       "version_major": 2,
       "version_minor": 0
      },
      "text/plain": [
       "Loading checkpoint shards:   0%|          | 0/2 [00:00<?, ?it/s]"
      ]
     },
     "metadata": {},
     "output_type": "display_data"
    },
    {
     "data": {
      "application/vnd.jupyter.widget-view+json": {
       "model_id": "f2eac6617e054f8d991f80b71875cfdb",
       "version_major": 2,
       "version_minor": 0
      },
      "text/plain": [
       "generation_config.json:   0%|          | 0.00/200 [00:00<?, ?B/s]"
      ]
     },
     "metadata": {},
     "output_type": "display_data"
    }
   ],
   "source": [
    "# Load base model\n",
    "\n",
    "model = AutoModelForCausalLM.from_pretrained(\n",
    "    model_name,\n",
    "    quantization_config = bnb_config,\n",
    "    device_map=device_map\n",
    ")"
   ]
  },
  {
   "cell_type": "code",
   "execution_count": 17,
   "metadata": {
    "execution": {
     "iopub.execute_input": "2025-06-02T06:25:42.483187Z",
     "iopub.status.busy": "2025-06-02T06:25:42.482939Z",
     "iopub.status.idle": "2025-06-02T06:25:42.486672Z",
     "shell.execute_reply": "2025-06-02T06:25:42.486043Z",
     "shell.execute_reply.started": "2025-06-02T06:25:42.483170Z"
    },
    "id": "5GHwxGAYeaqx",
    "trusted": true
   },
   "outputs": [],
   "source": [
    "# loaded_model = AutoModelForCausalLM.from_pretrained(\n",
    "#     model_name,\n",
    "#     quantization_config = bnb_config,\n",
    "#     device_map=device_map\n",
    "# )"
   ]
  },
  {
   "cell_type": "code",
   "execution_count": 18,
   "metadata": {
    "execution": {
     "iopub.execute_input": "2025-06-02T06:25:42.487470Z",
     "iopub.status.busy": "2025-06-02T06:25:42.487290Z",
     "iopub.status.idle": "2025-06-02T06:25:42.500085Z",
     "shell.execute_reply": "2025-06-02T06:25:42.499083Z",
     "shell.execute_reply.started": "2025-06-02T06:25:42.487456Z"
    },
    "id": "KuG95xzZPUc5",
    "trusted": true
   },
   "outputs": [],
   "source": [
    "model.config.use_cache = False\n",
    "model.config.pretraining_tp = 1"
   ]
  },
  {
   "cell_type": "code",
   "execution_count": 19,
   "metadata": {
    "execution": {
     "iopub.execute_input": "2025-06-02T06:25:42.501234Z",
     "iopub.status.busy": "2025-06-02T06:25:42.500843Z",
     "iopub.status.idle": "2025-06-02T06:25:43.402431Z",
     "shell.execute_reply": "2025-06-02T06:25:43.401680Z",
     "shell.execute_reply.started": "2025-06-02T06:25:42.501214Z"
    },
    "id": "fP1bBEIvPlv0",
    "trusted": true
   },
   "outputs": [
    {
     "data": {
      "application/vnd.jupyter.widget-view+json": {
       "model_id": "1f058bf34f8c4e9c9982dfdecfff0f86",
       "version_major": 2,
       "version_minor": 0
      },
      "text/plain": [
       "tokenizer_config.json:   0%|          | 0.00/746 [00:00<?, ?B/s]"
      ]
     },
     "metadata": {},
     "output_type": "display_data"
    },
    {
     "data": {
      "application/vnd.jupyter.widget-view+json": {
       "model_id": "4525ba418cf945b5882003c213060281",
       "version_major": 2,
       "version_minor": 0
      },
      "text/plain": [
       "tokenizer.model:   0%|          | 0.00/500k [00:00<?, ?B/s]"
      ]
     },
     "metadata": {},
     "output_type": "display_data"
    },
    {
     "data": {
      "application/vnd.jupyter.widget-view+json": {
       "model_id": "342ff15137e64a33a751c899d977fd0c",
       "version_major": 2,
       "version_minor": 0
      },
      "text/plain": [
       "tokenizer.json:   0%|          | 0.00/1.84M [00:00<?, ?B/s]"
      ]
     },
     "metadata": {},
     "output_type": "display_data"
    },
    {
     "data": {
      "application/vnd.jupyter.widget-view+json": {
       "model_id": "4129f6b258a4468bb004cc326ca89928",
       "version_major": 2,
       "version_minor": 0
      },
      "text/plain": [
       "added_tokens.json:   0%|          | 0.00/21.0 [00:00<?, ?B/s]"
      ]
     },
     "metadata": {},
     "output_type": "display_data"
    },
    {
     "data": {
      "application/vnd.jupyter.widget-view+json": {
       "model_id": "114307d1db2240cb97fe6817952afb2c",
       "version_major": 2,
       "version_minor": 0
      },
      "text/plain": [
       "special_tokens_map.json:   0%|          | 0.00/435 [00:00<?, ?B/s]"
      ]
     },
     "metadata": {},
     "output_type": "display_data"
    }
   ],
   "source": [
    "tokenizer = AutoTokenizer.from_pretrained(\n",
    "    model_name,\n",
    "    trust_remote_code = True\n",
    ")\n",
    "tokenizer.pad_token = tokenizer.eos_token\n",
    "tokenizer.padding_side = 'right' # Fix weird overflow issue with fp16 training\n"
   ]
  },
  {
   "cell_type": "code",
   "execution_count": 20,
   "metadata": {
    "execution": {
     "iopub.execute_input": "2025-06-02T06:25:43.403611Z",
     "iopub.status.busy": "2025-06-02T06:25:43.403318Z",
     "iopub.status.idle": "2025-06-02T06:25:43.408679Z",
     "shell.execute_reply": "2025-06-02T06:25:43.407965Z",
     "shell.execute_reply.started": "2025-06-02T06:25:43.403588Z"
    },
    "id": "eQVkn4-fA0B2",
    "trusted": true
   },
   "outputs": [
    {
     "data": {
      "text/plain": [
       "Dataset({\n",
       "    features: ['Context', 'Response', 'text'],\n",
       "    num_rows: 3512\n",
       "})"
      ]
     },
     "execution_count": 20,
     "metadata": {},
     "output_type": "execute_result"
    }
   ],
   "source": [
    "dataset"
   ]
  },
  {
   "cell_type": "code",
   "execution_count": 21,
   "metadata": {
    "execution": {
     "iopub.execute_input": "2025-06-02T06:25:43.409765Z",
     "iopub.status.busy": "2025-06-02T06:25:43.409486Z",
     "iopub.status.idle": "2025-06-02T06:25:46.362223Z",
     "shell.execute_reply": "2025-06-02T06:25:46.361703Z",
     "shell.execute_reply.started": "2025-06-02T06:25:43.409744Z"
    },
    "id": "xQga95rA_HBr",
    "trusted": true
   },
   "outputs": [],
   "source": [
    "lengths = []\n",
    "for idx,example in enumerate(dataset):\n",
    "    tokens = tokenizer(example[\"text\"])[\"input_ids\"]\n",
    "    lengths.append((idx,len(tokens)))\n"
   ]
  },
  {
   "cell_type": "code",
   "execution_count": 22,
   "metadata": {
    "execution": {
     "iopub.execute_input": "2025-06-02T06:25:46.363011Z",
     "iopub.status.busy": "2025-06-02T06:25:46.362834Z",
     "iopub.status.idle": "2025-06-02T06:25:46.368325Z",
     "shell.execute_reply": "2025-06-02T06:25:46.367828Z",
     "shell.execute_reply.started": "2025-06-02T06:25:46.362998Z"
    },
    "id": "YDk6b4ZeBJJe",
    "trusted": true
   },
   "outputs": [
    {
     "data": {
      "text/plain": [
       "((2624, 26816), (2625, 19))"
      ]
     },
     "execution_count": 22,
     "metadata": {},
     "output_type": "execute_result"
    }
   ],
   "source": [
    "max(lengths,key=lambda x:x[1]),min(lengths,key=lambda x:x[1])"
   ]
  },
  {
   "cell_type": "code",
   "execution_count": 23,
   "metadata": {
    "execution": {
     "iopub.execute_input": "2025-06-02T06:25:46.369411Z",
     "iopub.status.busy": "2025-06-02T06:25:46.369170Z",
     "iopub.status.idle": "2025-06-02T06:25:46.389678Z",
     "shell.execute_reply": "2025-06-02T06:25:46.388961Z",
     "shell.execute_reply.started": "2025-06-02T06:25:46.369391Z"
    },
    "id": "LlrFGvXFB4ph",
    "trusted": true
   },
   "outputs": [
    {
     "data": {
      "text/plain": [
       "'###user: I get so much anxiety, and I don’t know why. I feel like I can’t do anything by myself because I’m scared of the outcomes.\\n###psychologist: The other two post answers to your question are very good and I don\\'t feel the need to repeat what has already been said quite well, but I will offer one other option I have been able to utilize quite successfully with those dealing with panic attacks. \\xa0Chain analysis is a fantastic way for your to map out the situation starting with the prompting event, the chain of events ((links) that lead up to the behavior - in this case a panic attack, and then what the consequences were. \\xa0See the illustration below:<img src=\"data:image/png;base64,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'"
      ]
     },
     "execution_count": 23,
     "metadata": {},
     "output_type": "execute_result"
    }
   ],
   "source": [
    "dataset['text'][2624]"
   ]
  },
  {
   "cell_type": "code",
   "execution_count": 24,
   "metadata": {
    "execution": {
     "iopub.execute_input": "2025-06-02T06:25:46.391012Z",
     "iopub.status.busy": "2025-06-02T06:25:46.390384Z",
     "iopub.status.idle": "2025-06-02T06:25:46.409079Z",
     "shell.execute_reply": "2025-06-02T06:25:46.408497Z",
     "shell.execute_reply.started": "2025-06-02T06:25:46.390989Z"
    },
    "id": "c1KB0zE1B_LK",
    "trusted": true
   },
   "outputs": [
    {
     "data": {
      "text/plain": [
       "653"
      ]
     },
     "execution_count": 24,
     "metadata": {},
     "output_type": "execute_result"
    }
   ],
   "source": [
    "len(dataset['text'][19])"
   ]
  },
  {
   "cell_type": "code",
   "execution_count": 25,
   "metadata": {
    "execution": {
     "iopub.execute_input": "2025-06-02T06:25:46.410186Z",
     "iopub.status.busy": "2025-06-02T06:25:46.409887Z",
     "iopub.status.idle": "2025-06-02T06:25:46.420128Z",
     "shell.execute_reply": "2025-06-02T06:25:46.419643Z",
     "shell.execute_reply.started": "2025-06-02T06:25:46.410170Z"
    },
    "id": "xF5YDlFzFw23",
    "trusted": true
   },
   "outputs": [],
   "source": [
    "import re"
   ]
  },
  {
   "cell_type": "code",
   "execution_count": 26,
   "metadata": {
    "execution": {
     "iopub.execute_input": "2025-06-02T06:25:46.421468Z",
     "iopub.status.busy": "2025-06-02T06:25:46.421019Z",
     "iopub.status.idle": "2025-06-02T06:25:46.641833Z",
     "shell.execute_reply": "2025-06-02T06:25:46.640942Z",
     "shell.execute_reply.started": "2025-06-02T06:25:46.421453Z"
    },
    "id": "RlQuKqBECTHn",
    "trusted": true
   },
   "outputs": [
    {
     "data": {
      "application/vnd.jupyter.widget-view+json": {
       "model_id": "7cefd0c3e30348ada9e0cc244108ddfa",
       "version_major": 2,
       "version_minor": 0
      },
      "text/plain": [
       "Map:   0%|          | 0/3512 [00:00<?, ? examples/s]"
      ]
     },
     "metadata": {},
     "output_type": "display_data"
    }
   ],
   "source": [
    "def clean_html(example):\n",
    "    text = example['text']\n",
    "    pattern = r\"<.*?\\/>|<.*\"\n",
    "    cleaned = re.sub(pattern, \"\", text, flags=re.DOTALL)\n",
    "\n",
    "    return {'cleaned_text': cleaned}\n",
    "\n",
    "dataset = dataset.map(clean_html)"
   ]
  },
  {
   "cell_type": "code",
   "execution_count": 27,
   "metadata": {
    "execution": {
     "iopub.execute_input": "2025-06-02T06:25:46.642949Z",
     "iopub.status.busy": "2025-06-02T06:25:46.642678Z",
     "iopub.status.idle": "2025-06-02T06:25:46.648239Z",
     "shell.execute_reply": "2025-06-02T06:25:46.647494Z",
     "shell.execute_reply.started": "2025-06-02T06:25:46.642924Z"
    },
    "id": "OixY5IrIHFAQ",
    "trusted": true
   },
   "outputs": [
    {
     "data": {
      "text/plain": [
       "Dataset({\n",
       "    features: ['Context', 'Response', 'text', 'cleaned_text'],\n",
       "    num_rows: 3512\n",
       "})"
      ]
     },
     "execution_count": 27,
     "metadata": {},
     "output_type": "execute_result"
    }
   ],
   "source": [
    "dataset"
   ]
  },
  {
   "cell_type": "code",
   "execution_count": 28,
   "metadata": {
    "execution": {
     "iopub.execute_input": "2025-06-02T06:25:46.651890Z",
     "iopub.status.busy": "2025-06-02T06:25:46.651696Z",
     "iopub.status.idle": "2025-06-02T06:25:46.700902Z",
     "shell.execute_reply": "2025-06-02T06:25:46.700153Z",
     "shell.execute_reply.started": "2025-06-02T06:25:46.651876Z"
    },
    "id": "HPWlBpZmDJfW",
    "trusted": true
   },
   "outputs": [
    {
     "data": {
      "text/plain": [
       "\"###user: I get so much anxiety, and I don’t know why. I feel like I can’t do anything by myself because I’m scared of the outcomes.\\n###psychologist: The other two post answers to your question are very good and I don't feel the need to repeat what has already been said quite well, but I will offer one other option I have been able to utilize quite successfully with those dealing with panic attacks. \\xa0Chain analysis is a fantastic way for your to map out the situation starting with the prompting event, the chain of events ((links) that lead up to the behavior - in this case a panic attack, and then what the consequences were. \\xa0See the illustration below:\""
      ]
     },
     "execution_count": 28,
     "metadata": {},
     "output_type": "execute_result"
    }
   ],
   "source": [
    "dataset['cleaned_text'][2624]"
   ]
  },
  {
   "cell_type": "code",
   "execution_count": 29,
   "metadata": {
    "execution": {
     "iopub.execute_input": "2025-06-02T06:25:46.701807Z",
     "iopub.status.busy": "2025-06-02T06:25:46.701586Z",
     "iopub.status.idle": "2025-06-02T06:25:49.624695Z",
     "shell.execute_reply": "2025-06-02T06:25:49.623885Z",
     "shell.execute_reply.started": "2025-06-02T06:25:46.701792Z"
    },
    "id": "JaQb2vVeC7p7",
    "trusted": true
   },
   "outputs": [],
   "source": [
    "lengths = []\n",
    "for idx,example in enumerate(dataset):\n",
    "    tokens = tokenizer(example[\"cleaned_text\"])[\"input_ids\"]\n",
    "    lengths.append((idx,len(tokens)))\n"
   ]
  },
  {
   "cell_type": "code",
   "execution_count": 30,
   "metadata": {
    "execution": {
     "iopub.execute_input": "2025-06-02T06:25:49.625842Z",
     "iopub.status.busy": "2025-06-02T06:25:49.625584Z",
     "iopub.status.idle": "2025-06-02T06:25:49.631426Z",
     "shell.execute_reply": "2025-06-02T06:25:49.630839Z",
     "shell.execute_reply.started": "2025-06-02T06:25:49.625821Z"
    },
    "id": "AIjC__izIzpC",
    "trusted": true
   },
   "outputs": [
    {
     "data": {
      "text/plain": [
       "((3144, 1306), (2625, 19))"
      ]
     },
     "execution_count": 30,
     "metadata": {},
     "output_type": "execute_result"
    }
   ],
   "source": [
    "max(lengths,key=lambda x:x[1]),min(lengths,key=lambda x:x[1])"
   ]
  },
  {
   "cell_type": "code",
   "execution_count": 31,
   "metadata": {
    "execution": {
     "iopub.execute_input": "2025-06-02T06:25:49.632340Z",
     "iopub.status.busy": "2025-06-02T06:25:49.632156Z",
     "iopub.status.idle": "2025-06-02T06:25:49.644926Z",
     "shell.execute_reply": "2025-06-02T06:25:49.644133Z",
     "shell.execute_reply.started": "2025-06-02T06:25:49.632322Z"
    },
    "id": "BkMy5TmiC9nH",
    "trusted": true
   },
   "outputs": [
    {
     "data": {
      "text/plain": [
       "((3144, 1306), (2625, 19))"
      ]
     },
     "execution_count": 31,
     "metadata": {},
     "output_type": "execute_result"
    }
   ],
   "source": [
    "max(lengths,key=lambda x:x[1]),min(lengths,key=lambda x:x[1])"
   ]
  },
  {
   "cell_type": "code",
   "execution_count": 32,
   "metadata": {
    "execution": {
     "iopub.execute_input": "2025-06-02T06:25:49.645806Z",
     "iopub.status.busy": "2025-06-02T06:25:49.645634Z",
     "iopub.status.idle": "2025-06-02T06:25:49.657921Z",
     "shell.execute_reply": "2025-06-02T06:25:49.657386Z",
     "shell.execute_reply.started": "2025-06-02T06:25:49.645793Z"
    },
    "id": "zvFOzg_YJBx-",
    "trusted": true
   },
   "outputs": [
    {
     "data": {
      "text/plain": [
       "array([307, 578, 166, ..., 258, 159,  88])"
      ]
     },
     "execution_count": 32,
     "metadata": {},
     "output_type": "execute_result"
    }
   ],
   "source": [
    "import numpy as np\n",
    "\n",
    "values = [v for i,v in lengths]\n",
    "arr = np.array(values)\n",
    "arr"
   ]
  },
  {
   "cell_type": "code",
   "execution_count": 33,
   "metadata": {
    "execution": {
     "iopub.execute_input": "2025-06-02T06:25:49.658757Z",
     "iopub.status.busy": "2025-06-02T06:25:49.658567Z",
     "iopub.status.idle": "2025-06-02T06:25:49.673668Z",
     "shell.execute_reply": "2025-06-02T06:25:49.673010Z",
     "shell.execute_reply.started": "2025-06-02T06:25:49.658744Z"
    },
    "id": "w2kPJEinJReY",
    "trusted": true
   },
   "outputs": [],
   "source": [
    "q1 = np.percentile(arr,25)\n",
    "q3 = np.percentile(arr,75)"
   ]
  },
  {
   "cell_type": "code",
   "execution_count": 34,
   "metadata": {
    "execution": {
     "iopub.execute_input": "2025-06-02T06:25:49.674751Z",
     "iopub.status.busy": "2025-06-02T06:25:49.674442Z",
     "iopub.status.idle": "2025-06-02T06:25:49.679372Z",
     "shell.execute_reply": "2025-06-02T06:25:49.678836Z",
     "shell.execute_reply.started": "2025-06-02T06:25:49.674733Z"
    },
    "id": "w2nW1KEYJfuc",
    "trusted": true
   },
   "outputs": [
    {
     "data": {
      "text/plain": [
       "690.5"
      ]
     },
     "execution_count": 34,
     "metadata": {},
     "output_type": "execute_result"
    }
   ],
   "source": [
    "iqr = q3 - q1\n",
    "upper_bound = (1.5 * iqr) + q3\n",
    "upper_bound"
   ]
  },
  {
   "cell_type": "code",
   "execution_count": 35,
   "metadata": {
    "execution": {
     "iopub.execute_input": "2025-06-02T06:25:49.680568Z",
     "iopub.status.busy": "2025-06-02T06:25:49.680101Z",
     "iopub.status.idle": "2025-06-02T06:25:51.420036Z",
     "shell.execute_reply": "2025-06-02T06:25:51.419268Z",
     "shell.execute_reply.started": "2025-06-02T06:25:49.680539Z"
    },
    "id": "vtphor_d_Fo3",
    "trusted": true
   },
   "outputs": [
    {
     "data": {
      "application/vnd.jupyter.widget-view+json": {
       "model_id": "00f8d49505f84b148babc7b660222aef",
       "version_major": 2,
       "version_minor": 0
      },
      "text/plain": [
       "Map:   0%|          | 0/3512 [00:00<?, ? examples/s]"
      ]
     },
     "metadata": {},
     "output_type": "display_data"
    }
   ],
   "source": [
    "def tokenize(example):\n",
    "    return tokenizer(\n",
    "        example[\"text\"],\n",
    "        truncation=True,\n",
    "        padding=\"max_length\",\n",
    "        max_length=512,\n",
    "    )\n",
    "\n",
    "tokenized_dataset = dataset.map(tokenize, batched=True)"
   ]
  },
  {
   "cell_type": "code",
   "execution_count": 36,
   "metadata": {
    "execution": {
     "iopub.execute_input": "2025-06-02T06:25:51.421221Z",
     "iopub.status.busy": "2025-06-02T06:25:51.420955Z",
     "iopub.status.idle": "2025-06-02T06:25:51.425981Z",
     "shell.execute_reply": "2025-06-02T06:25:51.425259Z",
     "shell.execute_reply.started": "2025-06-02T06:25:51.421199Z"
    },
    "id": "kEex-N_N-0Dg",
    "trusted": true
   },
   "outputs": [
    {
     "data": {
      "text/plain": [
       "Dataset({\n",
       "    features: ['Context', 'Response', 'text', 'cleaned_text', 'input_ids', 'attention_mask'],\n",
       "    num_rows: 3512\n",
       "})"
      ]
     },
     "execution_count": 36,
     "metadata": {},
     "output_type": "execute_result"
    }
   ],
   "source": [
    "tokenized_dataset"
   ]
  },
  {
   "cell_type": "code",
   "execution_count": null,
   "metadata": {
    "trusted": true
   },
   "outputs": [],
   "source": [
    "import torch\n",
    "torch.cuda.empty_cache()"
   ]
  },
  {
   "cell_type": "code",
   "execution_count": 37,
   "metadata": {
    "execution": {
     "iopub.execute_input": "2025-06-02T06:25:51.426942Z",
     "iopub.status.busy": "2025-06-02T06:25:51.426696Z",
     "iopub.status.idle": "2025-06-02T06:25:51.516943Z",
     "shell.execute_reply": "2025-06-02T06:25:51.516289Z",
     "shell.execute_reply.started": "2025-06-02T06:25:51.426919Z"
    },
    "id": "HSgOCuAOQA8N",
    "trusted": true
   },
   "outputs": [],
   "source": [
    "# Load LoRA configuration\n",
    "peft_config = LoraConfig(\n",
    "    lora_alpha=lora_alpha,\n",
    "    lora_dropout=lora_dropout,\n",
    "    r=lora_r,\n",
    "    bias=\"none\",\n",
    "    task_type=\"CAUSAL_LM\"\n",
    ")"
   ]
  },
  {
   "cell_type": "code",
   "execution_count": 38,
   "metadata": {
    "execution": {
     "iopub.execute_input": "2025-06-02T06:25:51.517886Z",
     "iopub.status.busy": "2025-06-02T06:25:51.517635Z",
     "iopub.status.idle": "2025-06-02T06:25:51.561196Z",
     "shell.execute_reply": "2025-06-02T06:25:51.560492Z",
     "shell.execute_reply.started": "2025-06-02T06:25:51.517871Z"
    },
    "id": "Hm6uOTrwQwUO",
    "trusted": true
   },
   "outputs": [],
   "source": [
    "# Set training parameter\n",
    "training_arguments = TrainingArguments(\n",
    "    output_dir=output_dir,\n",
    "    num_train_epochs=num_train_epochs,\n",
    "    per_device_train_batch_size=per_device_train_batch_size,\n",
    "    gradient_accumulation_steps=gradient_accmulation_steps,\n",
    "    optim=optim,\n",
    "    save_steps=save_steps,\n",
    "    logging_steps=logging_steps,\n",
    "    learning_rate=learning_rate,\n",
    "    weight_decay=weight_decay,\n",
    "    fp16=fp16,\n",
    "    bf16=bf16,\n",
    "    max_grad_norm=max_grad_norm,\n",
    "    max_steps=max_steps,\n",
    "    warmup_ratio=warmup_ratio,\n",
    "    group_by_length=group_by_length,\n",
    "    lr_scheduler_type=lr_schedule_type,\n",
    "    report_to='tensorboard'\n",
    ")"
   ]
  },
  {
   "cell_type": "code",
   "execution_count": 40,
   "metadata": {
    "execution": {
     "iopub.execute_input": "2025-06-02T06:25:51.604626Z",
     "iopub.status.busy": "2025-06-02T06:25:51.604251Z",
     "iopub.status.idle": "2025-06-02T06:25:52.533815Z",
     "shell.execute_reply": "2025-06-02T06:25:52.533213Z",
     "shell.execute_reply.started": "2025-06-02T06:25:51.604601Z"
    },
    "id": "_cZMylxATCd0",
    "trusted": true
   },
   "outputs": [
    {
     "data": {
      "application/vnd.jupyter.widget-view+json": {
       "model_id": "88d5f97b36514aa99005546b39e42e8e",
       "version_major": 2,
       "version_minor": 0
      },
      "text/plain": [
       "Truncating train dataset:   0%|          | 0/3512 [00:00<?, ? examples/s]"
      ]
     },
     "metadata": {},
     "output_type": "display_data"
    },
    {
     "name": "stderr",
     "output_type": "stream",
     "text": [
      "No label_names provided for model class `PeftModelForCausalLM`. Since `PeftModel` hides base models input arguments, if label_names is not given, label_names can't be set automatically within `Trainer`. Note that empty label_names list will be used instead.\n"
     ]
    }
   ],
   "source": [
    "trainer = SFTTrainer(\n",
    "    model=model,\n",
    "    train_dataset=tokenized_dataset,\n",
    "    peft_config=peft_config,\n",
    "    args=training_arguments,\n",
    ")"
   ]
  },
  {
   "cell_type": "code",
   "execution_count": 41,
   "metadata": {
    "execution": {
     "iopub.execute_input": "2025-06-02T06:25:52.534804Z",
     "iopub.status.busy": "2025-06-02T06:25:52.534495Z",
     "iopub.status.idle": "2025-06-02T08:56:01.924737Z",
     "shell.execute_reply": "2025-06-02T08:56:01.923972Z",
     "shell.execute_reply.started": "2025-06-02T06:25:52.534774Z"
    },
    "id": "EX7BKoN7YDjO",
    "trusted": true
   },
   "outputs": [
    {
     "data": {
      "text/html": [
       "\n",
       "    <div>\n",
       "      \n",
       "      <progress value='439' max='439' style='width:300px; height:20px; vertical-align: middle;'></progress>\n",
       "      [439/439 2:29:50, Epoch 1/1]\n",
       "    </div>\n",
       "    <table border=\"1\" class=\"dataframe\">\n",
       "  <thead>\n",
       " <tr style=\"text-align: left;\">\n",
       "      <th>Step</th>\n",
       "      <th>Training Loss</th>\n",
       "    </tr>\n",
       "  </thead>\n",
       "  <tbody>\n",
       "    <tr>\n",
       "      <td>25</td>\n",
       "      <td>1.158900</td>\n",
       "    </tr>\n",
       "    <tr>\n",
       "      <td>50</td>\n",
       "      <td>0.628500</td>\n",
       "    </tr>\n",
       "    <tr>\n",
       "      <td>75</td>\n",
       "      <td>0.624600</td>\n",
       "    </tr>\n",
       "    <tr>\n",
       "      <td>100</td>\n",
       "      <td>0.611700</td>\n",
       "    </tr>\n",
       "    <tr>\n",
       "      <td>125</td>\n",
       "      <td>0.619700</td>\n",
       "    </tr>\n",
       "    <tr>\n",
       "      <td>150</td>\n",
       "      <td>0.611700</td>\n",
       "    </tr>\n",
       "    <tr>\n",
       "      <td>175</td>\n",
       "      <td>0.625100</td>\n",
       "    </tr>\n",
       "    <tr>\n",
       "      <td>200</td>\n",
       "      <td>0.586500</td>\n",
       "    </tr>\n",
       "    <tr>\n",
       "      <td>225</td>\n",
       "      <td>0.599100</td>\n",
       "    </tr>\n",
       "    <tr>\n",
       "      <td>250</td>\n",
       "      <td>0.622400</td>\n",
       "    </tr>\n",
       "    <tr>\n",
       "      <td>275</td>\n",
       "      <td>0.586000</td>\n",
       "    </tr>\n",
       "    <tr>\n",
       "      <td>300</td>\n",
       "      <td>0.596200</td>\n",
       "    </tr>\n",
       "    <tr>\n",
       "      <td>325</td>\n",
       "      <td>0.521600</td>\n",
       "    </tr>\n",
       "    <tr>\n",
       "      <td>350</td>\n",
       "      <td>0.569800</td>\n",
       "    </tr>\n",
       "    <tr>\n",
       "      <td>375</td>\n",
       "      <td>0.568100</td>\n",
       "    </tr>\n",
       "    <tr>\n",
       "      <td>400</td>\n",
       "      <td>0.604300</td>\n",
       "    </tr>\n",
       "    <tr>\n",
       "      <td>425</td>\n",
       "      <td>0.551800</td>\n",
       "    </tr>\n",
       "  </tbody>\n",
       "</table><p>"
      ],
      "text/plain": [
       "<IPython.core.display.HTML object>"
      ]
     },
     "metadata": {},
     "output_type": "display_data"
    },
    {
     "data": {
      "text/plain": [
       "TrainOutput(global_step=439, training_loss=0.6275949934348973, metrics={'train_runtime': 9007.4715, 'train_samples_per_second': 0.39, 'train_steps_per_second': 0.049, 'total_flos': 7.133098344972288e+16, 'train_loss': 0.6275949934348973})"
      ]
     },
     "execution_count": 41,
     "metadata": {},
     "output_type": "execute_result"
    }
   ],
   "source": [
    "trainer.train()"
   ]
  },
  {
   "cell_type": "code",
   "execution_count": 48,
   "metadata": {
    "execution": {
     "iopub.execute_input": "2025-06-02T09:08:35.062107Z",
     "iopub.status.busy": "2025-06-02T09:08:35.061488Z",
     "iopub.status.idle": "2025-06-02T09:08:35.298207Z",
     "shell.execute_reply": "2025-06-02T09:08:35.297375Z",
     "shell.execute_reply.started": "2025-06-02T09:08:35.062085Z"
    },
    "id": "5F-TFgOHZzI2",
    "trusted": true
   },
   "outputs": [],
   "source": [
    "trainer.model.save_pretrained(model_fine_tune_name)"
   ]
  },
  {
   "cell_type": "markdown",
   "metadata": {
    "id": "Yq8BC9eOaZtL"
   },
   "source": [
    "Check the plots on tensorboard, as follows"
   ]
  },
  {
   "cell_type": "code",
   "execution_count": 49,
   "metadata": {
    "execution": {
     "iopub.execute_input": "2025-06-02T09:08:47.678919Z",
     "iopub.status.busy": "2025-06-02T09:08:47.678648Z",
     "iopub.status.idle": "2025-06-02T09:08:47.687375Z",
     "shell.execute_reply": "2025-06-02T09:08:47.686823Z",
     "shell.execute_reply.started": "2025-06-02T09:08:47.678901Z"
    },
    "id": "zehgVMtoaVYD",
    "trusted": true
   },
   "outputs": [
    {
     "name": "stdout",
     "output_type": "stream",
     "text": [
      "The tensorboard extension is already loaded. To reload it, use:\n",
      "  %reload_ext tensorboard\n"
     ]
    },
    {
     "data": {
      "text/plain": [
       "Reusing TensorBoard on port 6006 (pid 155), started 0:12:38 ago. (Use '!kill 155' to kill it.)"
      ]
     },
     "metadata": {},
     "output_type": "display_data"
    },
    {
     "data": {
      "application/javascript": "\n        (async () => {\n            const url = new URL(await google.colab.kernel.proxyPort(6006, {'cache': true}));\n            url.searchParams.set('tensorboardColab', 'true');\n            const iframe = document.createElement('iframe');\n            iframe.src = url;\n            iframe.setAttribute('width', '100%');\n            iframe.setAttribute('height', '800');\n            iframe.setAttribute('frameborder', 0);\n            document.body.appendChild(iframe);\n        })();\n    ",
      "text/plain": [
       "<IPython.core.display.Javascript object>"
      ]
     },
     "metadata": {},
     "output_type": "display_data"
    }
   ],
   "source": [
    "%load_ext tensorboard\n",
    "%tensorboard --logdir results/runs"
   ]
  },
  {
   "cell_type": "code",
   "execution_count": 53,
   "metadata": {
    "execution": {
     "iopub.execute_input": "2025-06-02T09:16:43.996067Z",
     "iopub.status.busy": "2025-06-02T09:16:43.995777Z",
     "iopub.status.idle": "2025-06-02T09:17:24.346384Z",
     "shell.execute_reply": "2025-06-02T09:17:24.345569Z",
     "shell.execute_reply.started": "2025-06-02T09:16:43.996049Z"
    },
    "id": "BtebA2BLawyJ",
    "trusted": true
   },
   "outputs": [],
   "source": [
    "logging.set_verbosity(logging.CRITICAL)\n",
    "\n",
    "# Run text generation pipeline with our next model\n",
    "prompt = 'I am feeling very insecure. How to handle it?'\n",
    "pipe = pipeline(task=\"text-generation\",model=model,tokenizer=tokenizer)\n",
    "result = pipe(f\"<s>[INST] {prompt} [/INST]\")"
   ]
  },
  {
   "cell_type": "code",
   "execution_count": 54,
   "metadata": {
    "execution": {
     "iopub.execute_input": "2025-06-02T09:17:24.347814Z",
     "iopub.status.busy": "2025-06-02T09:17:24.347541Z",
     "iopub.status.idle": "2025-06-02T09:17:24.353181Z",
     "shell.execute_reply": "2025-06-02T09:17:24.352730Z",
     "shell.execute_reply.started": "2025-06-02T09:17:24.347791Z"
    },
    "id": "FGN4AakQblIU",
    "trusted": true
   },
   "outputs": [
    {
     "name": "stdout",
     "output_type": "stream",
     "text": [
      "<s>[INST] I am feeling very insecure. How to handle it? [/INST]  Feeling insecure can be a challenging and uncomfortable experience. Here are some suggestions that may help you manage your insecurity:\n",
      "\n",
      "1. Practice self-compassion: Be kind to yourself and try to reframe your negative thoughts. Instead of focusing on your flaws, try to focus on your strengths and accomplishments.\n",
      "2. Identify the source of your insecurity: Try to understand what is causing your insecurity. Is it a specific situation or person? Is it a past experience or a general feeling? Once you understand the source of your insecurity, you can start to address it.\n",
      "3. Challenge negative thoughts: Try to identify negative thoughts and challenge them. Ask yourself if they are based on facts or if they are just your perception. Try to replace negative thoughts with more positive and realistic ones.\n",
      "4. Practice mindfulness: Mindfulness is the practice of being present in the moment and focusing on your thoughts and feelings without judgment. It can help you to become more aware of your thoughts and feelings and to manage them more effectively.\n",
      "5. Seek support: Talk to a trusted friend or family member about your insecurity. They may be able to offer you support and help you to see things from a different perspective.\n",
      "6. Take care of yourself: Make sure you are getting enough sleep, eating well, and exercising regularly. Taking care of your physical health can help to improve your mental health.\n",
      "7. Try journaling: Writing down your thoughts and feelings can help you to process them and gain a better understanding of yourself.\n",
      "8. Try to focus on the present: Instead of worrying about the future or dwelling on the past, try to focus on the present moment. Try to enjoy the present moment and find things to be grateful for.\n",
      "9. Try to set realistic goals: Setting realistic goals can help you to feel more confident and secure. Try to set small goals that you can achieve and celebrate your successes.\n",
      "10. Seek professional help: If your insecurity is impacting your daily life, you may want to consider seeking professional help. A therapist can help you to identify the source of your insecurity and develop strategies to manage it.\n",
      "\n",
      "Remember, insecurity is a common experience and it is\n"
     ]
    }
   ],
   "source": [
    "print(result[0]['generated_text'])"
   ]
  },
  {
   "cell_type": "code",
   "execution_count": 52,
   "metadata": {
    "execution": {
     "iopub.execute_input": "2025-06-02T09:09:31.529986Z",
     "iopub.status.busy": "2025-06-02T09:09:31.529730Z",
     "iopub.status.idle": "2025-06-02T09:09:31.552064Z",
     "shell.execute_reply": "2025-06-02T09:09:31.551109Z",
     "shell.execute_reply.started": "2025-06-02T09:09:31.529965Z"
    },
    "id": "Z-VtuhFvc6kK",
    "trusted": true
   },
   "outputs": [
    {
     "data": {
      "text/plain": [
       "LlamaForCausalLM(\n",
       "  (model): LlamaModel(\n",
       "    (embed_tokens): Embedding(32000, 4096, padding_idx=0)\n",
       "    (layers): ModuleList(\n",
       "      (0-31): 32 x LlamaDecoderLayer(\n",
       "        (self_attn): LlamaAttention(\n",
       "          (q_proj): lora.Linear4bit(\n",
       "            (base_layer): Linear4bit(in_features=4096, out_features=4096, bias=False)\n",
       "            (lora_dropout): ModuleDict(\n",
       "              (default): Dropout(p=0.1, inplace=False)\n",
       "            )\n",
       "            (lora_A): ModuleDict(\n",
       "              (default): Linear(in_features=4096, out_features=8, bias=False)\n",
       "            )\n",
       "            (lora_B): ModuleDict(\n",
       "              (default): Linear(in_features=8, out_features=4096, bias=False)\n",
       "            )\n",
       "            (lora_embedding_A): ParameterDict()\n",
       "            (lora_embedding_B): ParameterDict()\n",
       "            (lora_magnitude_vector): ModuleDict()\n",
       "          )\n",
       "          (k_proj): Linear4bit(in_features=4096, out_features=4096, bias=False)\n",
       "          (v_proj): lora.Linear4bit(\n",
       "            (base_layer): Linear4bit(in_features=4096, out_features=4096, bias=False)\n",
       "            (lora_dropout): ModuleDict(\n",
       "              (default): Dropout(p=0.1, inplace=False)\n",
       "            )\n",
       "            (lora_A): ModuleDict(\n",
       "              (default): Linear(in_features=4096, out_features=8, bias=False)\n",
       "            )\n",
       "            (lora_B): ModuleDict(\n",
       "              (default): Linear(in_features=8, out_features=4096, bias=False)\n",
       "            )\n",
       "            (lora_embedding_A): ParameterDict()\n",
       "            (lora_embedding_B): ParameterDict()\n",
       "            (lora_magnitude_vector): ModuleDict()\n",
       "          )\n",
       "          (o_proj): Linear4bit(in_features=4096, out_features=4096, bias=False)\n",
       "        )\n",
       "        (mlp): LlamaMLP(\n",
       "          (gate_proj): Linear4bit(in_features=4096, out_features=11008, bias=False)\n",
       "          (up_proj): Linear4bit(in_features=4096, out_features=11008, bias=False)\n",
       "          (down_proj): Linear4bit(in_features=11008, out_features=4096, bias=False)\n",
       "          (act_fn): SiLU()\n",
       "        )\n",
       "        (input_layernorm): LlamaRMSNorm((4096,), eps=1e-05)\n",
       "        (post_attention_layernorm): LlamaRMSNorm((4096,), eps=1e-05)\n",
       "      )\n",
       "    )\n",
       "    (norm): LlamaRMSNorm((4096,), eps=1e-05)\n",
       "    (rotary_emb): LlamaRotaryEmbedding()\n",
       "  )\n",
       "  (lm_head): Linear(in_features=4096, out_features=32000, bias=False)\n",
       ")"
      ]
     },
     "execution_count": 52,
     "metadata": {},
     "output_type": "execute_result"
    }
   ],
   "source": [
    "model"
   ]
  },
  {
   "cell_type": "code",
   "execution_count": 47,
   "metadata": {
    "execution": {
     "iopub.execute_input": "2025-06-02T08:56:53.074474Z",
     "iopub.status.busy": "2025-06-02T08:56:53.074269Z",
     "iopub.status.idle": "2025-06-02T08:56:53.086660Z",
     "shell.execute_reply": "2025-06-02T08:56:53.085944Z",
     "shell.execute_reply.started": "2025-06-02T08:56:53.074460Z"
    },
    "trusted": true
   },
   "outputs": [],
   "source": [
    "# del model\n",
    "# del pipe\n",
    "# del trainer\n",
    "# import gc\n",
    "# gc.collect()\n",
    "# # gc.collect()"
   ]
  }
 ],
 "metadata": {
  "accelerator": "TPU",
  "colab": {
   "gpuType": "V28",
   "provenance": []
  },
  "kaggle": {
   "accelerator": "nvidiaTeslaT4",
   "dataSources": [],
   "dockerImageVersionId": 31041,
   "isGpuEnabled": true,
   "isInternetEnabled": true,
   "language": "python",
   "sourceType": "notebook"
  },
  "kernelspec": {
   "display_name": "Python 3",
   "language": "python",
   "name": "python3"
  },
  "language_info": {
   "codemirror_mode": {
    "name": "ipython",
    "version": 3
   },
   "file_extension": ".py",
   "mimetype": "text/x-python",
   "name": "python",
   "nbconvert_exporter": "python",
   "pygments_lexer": "ipython3",
   "version": "3.11.11"
  },
  "widgets": {
   "application/vnd.jupyter.widget-state+json": {
    "00f7f4bcde354af1882e845626f74164": {
     "model_module": "@jupyter-widgets/controls",
     "model_module_version": "1.5.0",
     "model_name": "FloatProgressModel",
     "state": {
      "_dom_classes": [],
      "_model_module": "@jupyter-widgets/controls",
      "_model_module_version": "1.5.0",
      "_model_name": "FloatProgressModel",
      "_view_count": null,
      "_view_module": "@jupyter-widgets/controls",
      "_view_module_version": "1.5.0",
      "_view_name": "ProgressView",
      "bar_style": "success",
      "description": "",
      "description_tooltip": null,
      "layout": "IPY_MODEL_18ca682871f94548b8a97300ba14da10",
      "max": 3512,
      "min": 0,
      "orientation": "horizontal",
      "style": "IPY_MODEL_d12b4b59e5134abcabfcee581b64b48a",
      "value": 3512
     }
    },
    "01357a07bdf64b5aa1104d05219645d5": {
     "model_module": "@jupyter-widgets/base",
     "model_module_version": "1.2.0",
     "model_name": "LayoutModel",
     "state": {
      "_model_module": "@jupyter-widgets/base",
      "_model_module_version": "1.2.0",
      "_model_name": "LayoutModel",
      "_view_count": null,
      "_view_module": "@jupyter-widgets/base",
      "_view_module_version": "1.2.0",
      "_view_name": "LayoutView",
      "align_content": null,
      "align_items": null,
      "align_self": null,
      "border": null,
      "bottom": null,
      "display": null,
      "flex": null,
      "flex_flow": null,
      "grid_area": null,
      "grid_auto_columns": null,
      "grid_auto_flow": null,
      "grid_auto_rows": null,
      "grid_column": null,
      "grid_gap": null,
      "grid_row": null,
      "grid_template_areas": null,
      "grid_template_columns": null,
      "grid_template_rows": null,
      "height": null,
      "justify_content": null,
      "justify_items": null,
      "left": null,
      "margin": null,
      "max_height": null,
      "max_width": null,
      "min_height": null,
      "min_width": null,
      "object_fit": null,
      "object_position": null,
      "order": null,
      "overflow": null,
      "overflow_x": null,
      "overflow_y": null,
      "padding": null,
      "right": null,
      "top": null,
      "visibility": null,
      "width": null
     }
    },
    "131d39796f9f4cac9e1c4c84db902df4": {
     "model_module": "@jupyter-widgets/controls",
     "model_module_version": "1.5.0",
     "model_name": "DescriptionStyleModel",
     "state": {
      "_model_module": "@jupyter-widgets/controls",
      "_model_module_version": "1.5.0",
      "_model_name": "DescriptionStyleModel",
      "_view_count": null,
      "_view_module": "@jupyter-widgets/base",
      "_view_module_version": "1.2.0",
      "_view_name": "StyleView",
      "description_width": ""
     }
    },
    "132addd1f7be40b790c22f7b721c97d2": {
     "model_module": "@jupyter-widgets/controls",
     "model_module_version": "1.5.0",
     "model_name": "HTMLModel",
     "state": {
      "_dom_classes": [],
      "_model_module": "@jupyter-widgets/controls",
      "_model_module_version": "1.5.0",
      "_model_name": "HTMLModel",
      "_view_count": null,
      "_view_module": "@jupyter-widgets/controls",
      "_view_module_version": "1.5.0",
      "_view_name": "HTMLView",
      "description": "",
      "description_tooltip": null,
      "layout": "IPY_MODEL_69be82e6c30949539547a83b969f094d",
      "placeholder": "​",
      "style": "IPY_MODEL_131d39796f9f4cac9e1c4c84db902df4",
      "value": " 3512/3512 [00:00&lt;00:00, 5134.09 examples/s]"
     }
    },
    "18ca682871f94548b8a97300ba14da10": {
     "model_module": "@jupyter-widgets/base",
     "model_module_version": "1.2.0",
     "model_name": "LayoutModel",
     "state": {
      "_model_module": "@jupyter-widgets/base",
      "_model_module_version": "1.2.0",
      "_model_name": "LayoutModel",
      "_view_count": null,
      "_view_module": "@jupyter-widgets/base",
      "_view_module_version": "1.2.0",
      "_view_name": "LayoutView",
      "align_content": null,
      "align_items": null,
      "align_self": null,
      "border": null,
      "bottom": null,
      "display": null,
      "flex": null,
      "flex_flow": null,
      "grid_area": null,
      "grid_auto_columns": null,
      "grid_auto_flow": null,
      "grid_auto_rows": null,
      "grid_column": null,
      "grid_gap": null,
      "grid_row": null,
      "grid_template_areas": null,
      "grid_template_columns": null,
      "grid_template_rows": null,
      "height": null,
      "justify_content": null,
      "justify_items": null,
      "left": null,
      "margin": null,
      "max_height": null,
      "max_width": null,
      "min_height": null,
      "min_width": null,
      "object_fit": null,
      "object_position": null,
      "order": null,
      "overflow": null,
      "overflow_x": null,
      "overflow_y": null,
      "padding": null,
      "right": null,
      "top": null,
      "visibility": null,
      "width": null
     }
    },
    "19b3bae5a6664b19a2a69de776acf1f3": {
     "model_module": "@jupyter-widgets/base",
     "model_module_version": "1.2.0",
     "model_name": "LayoutModel",
     "state": {
      "_model_module": "@jupyter-widgets/base",
      "_model_module_version": "1.2.0",
      "_model_name": "LayoutModel",
      "_view_count": null,
      "_view_module": "@jupyter-widgets/base",
      "_view_module_version": "1.2.0",
      "_view_name": "LayoutView",
      "align_content": null,
      "align_items": null,
      "align_self": null,
      "border": null,
      "bottom": null,
      "display": null,
      "flex": null,
      "flex_flow": null,
      "grid_area": null,
      "grid_auto_columns": null,
      "grid_auto_flow": null,
      "grid_auto_rows": null,
      "grid_column": null,
      "grid_gap": null,
      "grid_row": null,
      "grid_template_areas": null,
      "grid_template_columns": null,
      "grid_template_rows": null,
      "height": null,
      "justify_content": null,
      "justify_items": null,
      "left": null,
      "margin": null,
      "max_height": null,
      "max_width": null,
      "min_height": null,
      "min_width": null,
      "object_fit": null,
      "object_position": null,
      "order": null,
      "overflow": null,
      "overflow_x": null,
      "overflow_y": null,
      "padding": null,
      "right": null,
      "top": null,
      "visibility": null,
      "width": null
     }
    },
    "2060211f4ee44425bd26a594df540cf4": {
     "model_module": "@jupyter-widgets/controls",
     "model_module_version": "1.5.0",
     "model_name": "HTMLModel",
     "state": {
      "_dom_classes": [],
      "_model_module": "@jupyter-widgets/controls",
      "_model_module_version": "1.5.0",
      "_model_name": "HTMLModel",
      "_view_count": null,
      "_view_module": "@jupyter-widgets/controls",
      "_view_module_version": "1.5.0",
      "_view_name": "HTMLView",
      "description": "",
      "description_tooltip": null,
      "layout": "IPY_MODEL_72d1cd61738548e9beec311cfb807c07",
      "placeholder": "​",
      "style": "IPY_MODEL_608bda138cff476eb3771bf7208e7d9e",
      "value": " 4.79M/4.79M [00:01&lt;00:00, 4.45MB/s]"
     }
    },
    "21d29caef58b40b09e8e3db17ccaccbb": {
     "model_module": "@jupyter-widgets/controls",
     "model_module_version": "1.5.0",
     "model_name": "HTMLModel",
     "state": {
      "_dom_classes": [],
      "_model_module": "@jupyter-widgets/controls",
      "_model_module_version": "1.5.0",
      "_model_name": "HTMLModel",
      "_view_count": null,
      "_view_module": "@jupyter-widgets/controls",
      "_view_module_version": "1.5.0",
      "_view_name": "HTMLView",
      "description": "",
      "description_tooltip": null,
      "layout": "IPY_MODEL_9933df8d3d684ec29427027f72645b13",
      "placeholder": "​",
      "style": "IPY_MODEL_af09604610244e6a8635276bc46d3e9c",
      "value": "combined_dataset.json: 100%"
     }
    },
    "2274b57f6e06430d8a261110f78a6048": {
     "model_module": "@jupyter-widgets/controls",
     "model_module_version": "1.5.0",
     "model_name": "HTMLModel",
     "state": {
      "_dom_classes": [],
      "_model_module": "@jupyter-widgets/controls",
      "_model_module_version": "1.5.0",
      "_model_name": "HTMLModel",
      "_view_count": null,
      "_view_module": "@jupyter-widgets/controls",
      "_view_module_version": "1.5.0",
      "_view_name": "HTMLView",
      "description": "",
      "description_tooltip": null,
      "layout": "IPY_MODEL_19b3bae5a6664b19a2a69de776acf1f3",
      "placeholder": "​",
      "style": "IPY_MODEL_dce0d58b580543759140f1874f2d5fbe",
      "value": " 3512/3512 [00:00&lt;00:00, 15240.42 examples/s]"
     }
    },
    "25c3d8c78f764ba1aaee8bf81833f1b2": {
     "model_module": "@jupyter-widgets/controls",
     "model_module_version": "1.5.0",
     "model_name": "HBoxModel",
     "state": {
      "_dom_classes": [],
      "_model_module": "@jupyter-widgets/controls",
      "_model_module_version": "1.5.0",
      "_model_name": "HBoxModel",
      "_view_count": null,
      "_view_module": "@jupyter-widgets/controls",
      "_view_module_version": "1.5.0",
      "_view_name": "HBoxView",
      "box_style": "",
      "children": [
       "IPY_MODEL_72df7b1116cd44dab84e20a8912b9a35",
       "IPY_MODEL_ee066e40787b44b6865a3434fae101b1",
       "IPY_MODEL_6233455f35434e1db67851fe5d51167b"
      ],
      "layout": "IPY_MODEL_d7ca003820a340c1a337b74a4cef29ca"
     }
    },
    "3a65e4a6363c46b5831bd0322becbc8d": {
     "model_module": "@jupyter-widgets/base",
     "model_module_version": "1.2.0",
     "model_name": "LayoutModel",
     "state": {
      "_model_module": "@jupyter-widgets/base",
      "_model_module_version": "1.2.0",
      "_model_name": "LayoutModel",
      "_view_count": null,
      "_view_module": "@jupyter-widgets/base",
      "_view_module_version": "1.2.0",
      "_view_name": "LayoutView",
      "align_content": null,
      "align_items": null,
      "align_self": null,
      "border": null,
      "bottom": null,
      "display": null,
      "flex": null,
      "flex_flow": null,
      "grid_area": null,
      "grid_auto_columns": null,
      "grid_auto_flow": null,
      "grid_auto_rows": null,
      "grid_column": null,
      "grid_gap": null,
      "grid_row": null,
      "grid_template_areas": null,
      "grid_template_columns": null,
      "grid_template_rows": null,
      "height": null,
      "justify_content": null,
      "justify_items": null,
      "left": null,
      "margin": null,
      "max_height": null,
      "max_width": null,
      "min_height": null,
      "min_width": null,
      "object_fit": null,
      "object_position": null,
      "order": null,
      "overflow": null,
      "overflow_x": null,
      "overflow_y": null,
      "padding": null,
      "right": null,
      "top": null,
      "visibility": null,
      "width": null
     }
    },
    "45b290a1c197403890ff510d396a7e2b": {
     "model_module": "@jupyter-widgets/base",
     "model_module_version": "1.2.0",
     "model_name": "LayoutModel",
     "state": {
      "_model_module": "@jupyter-widgets/base",
      "_model_module_version": "1.2.0",
      "_model_name": "LayoutModel",
      "_view_count": null,
      "_view_module": "@jupyter-widgets/base",
      "_view_module_version": "1.2.0",
      "_view_name": "LayoutView",
      "align_content": null,
      "align_items": null,
      "align_self": null,
      "border": null,
      "bottom": null,
      "display": null,
      "flex": null,
      "flex_flow": null,
      "grid_area": null,
      "grid_auto_columns": null,
      "grid_auto_flow": null,
      "grid_auto_rows": null,
      "grid_column": null,
      "grid_gap": null,
      "grid_row": null,
      "grid_template_areas": null,
      "grid_template_columns": null,
      "grid_template_rows": null,
      "height": null,
      "justify_content": null,
      "justify_items": null,
      "left": null,
      "margin": null,
      "max_height": null,
      "max_width": null,
      "min_height": null,
      "min_width": null,
      "object_fit": null,
      "object_position": null,
      "order": null,
      "overflow": null,
      "overflow_x": null,
      "overflow_y": null,
      "padding": null,
      "right": null,
      "top": null,
      "visibility": null,
      "width": null
     }
    },
    "57eedea1761841a4a3523dec0e42297e": {
     "model_module": "@jupyter-widgets/controls",
     "model_module_version": "1.5.0",
     "model_name": "ProgressStyleModel",
     "state": {
      "_model_module": "@jupyter-widgets/controls",
      "_model_module_version": "1.5.0",
      "_model_name": "ProgressStyleModel",
      "_view_count": null,
      "_view_module": "@jupyter-widgets/base",
      "_view_module_version": "1.2.0",
      "_view_name": "StyleView",
      "bar_color": null,
      "description_width": ""
     }
    },
    "5bc5d4dac59442a686b64885f3217c42": {
     "model_module": "@jupyter-widgets/controls",
     "model_module_version": "1.5.0",
     "model_name": "ProgressStyleModel",
     "state": {
      "_model_module": "@jupyter-widgets/controls",
      "_model_module_version": "1.5.0",
      "_model_name": "ProgressStyleModel",
      "_view_count": null,
      "_view_module": "@jupyter-widgets/base",
      "_view_module_version": "1.2.0",
      "_view_name": "StyleView",
      "bar_color": null,
      "description_width": ""
     }
    },
    "5eb8c8fddff14c4db642fc37d8b1386b": {
     "model_module": "@jupyter-widgets/base",
     "model_module_version": "1.2.0",
     "model_name": "LayoutModel",
     "state": {
      "_model_module": "@jupyter-widgets/base",
      "_model_module_version": "1.2.0",
      "_model_name": "LayoutModel",
      "_view_count": null,
      "_view_module": "@jupyter-widgets/base",
      "_view_module_version": "1.2.0",
      "_view_name": "LayoutView",
      "align_content": null,
      "align_items": null,
      "align_self": null,
      "border": null,
      "bottom": null,
      "display": null,
      "flex": null,
      "flex_flow": null,
      "grid_area": null,
      "grid_auto_columns": null,
      "grid_auto_flow": null,
      "grid_auto_rows": null,
      "grid_column": null,
      "grid_gap": null,
      "grid_row": null,
      "grid_template_areas": null,
      "grid_template_columns": null,
      "grid_template_rows": null,
      "height": null,
      "justify_content": null,
      "justify_items": null,
      "left": null,
      "margin": null,
      "max_height": null,
      "max_width": null,
      "min_height": null,
      "min_width": null,
      "object_fit": null,
      "object_position": null,
      "order": null,
      "overflow": null,
      "overflow_x": null,
      "overflow_y": null,
      "padding": null,
      "right": null,
      "top": null,
      "visibility": null,
      "width": null
     }
    },
    "608bda138cff476eb3771bf7208e7d9e": {
     "model_module": "@jupyter-widgets/controls",
     "model_module_version": "1.5.0",
     "model_name": "DescriptionStyleModel",
     "state": {
      "_model_module": "@jupyter-widgets/controls",
      "_model_module_version": "1.5.0",
      "_model_name": "DescriptionStyleModel",
      "_view_count": null,
      "_view_module": "@jupyter-widgets/base",
      "_view_module_version": "1.2.0",
      "_view_name": "StyleView",
      "description_width": ""
     }
    },
    "6233455f35434e1db67851fe5d51167b": {
     "model_module": "@jupyter-widgets/controls",
     "model_module_version": "1.5.0",
     "model_name": "HTMLModel",
     "state": {
      "_dom_classes": [],
      "_model_module": "@jupyter-widgets/controls",
      "_model_module_version": "1.5.0",
      "_model_name": "HTMLModel",
      "_view_count": null,
      "_view_module": "@jupyter-widgets/controls",
      "_view_module_version": "1.5.0",
      "_view_name": "HTMLView",
      "description": "",
      "description_tooltip": null,
      "layout": "IPY_MODEL_cf17d2f4248640809b49984a61fc6f12",
      "placeholder": "​",
      "style": "IPY_MODEL_6713beb2ae9b46d48f34b1e7fa909d5f",
      "value": " 2.82k/2.82k [00:00&lt;00:00, 130kB/s]"
     }
    },
    "65ab6e82e4cf47069196d289c8bd83f0": {
     "model_module": "@jupyter-widgets/base",
     "model_module_version": "1.2.0",
     "model_name": "LayoutModel",
     "state": {
      "_model_module": "@jupyter-widgets/base",
      "_model_module_version": "1.2.0",
      "_model_name": "LayoutModel",
      "_view_count": null,
      "_view_module": "@jupyter-widgets/base",
      "_view_module_version": "1.2.0",
      "_view_name": "LayoutView",
      "align_content": null,
      "align_items": null,
      "align_self": null,
      "border": null,
      "bottom": null,
      "display": null,
      "flex": null,
      "flex_flow": null,
      "grid_area": null,
      "grid_auto_columns": null,
      "grid_auto_flow": null,
      "grid_auto_rows": null,
      "grid_column": null,
      "grid_gap": null,
      "grid_row": null,
      "grid_template_areas": null,
      "grid_template_columns": null,
      "grid_template_rows": null,
      "height": null,
      "justify_content": null,
      "justify_items": null,
      "left": null,
      "margin": null,
      "max_height": null,
      "max_width": null,
      "min_height": null,
      "min_width": null,
      "object_fit": null,
      "object_position": null,
      "order": null,
      "overflow": null,
      "overflow_x": null,
      "overflow_y": null,
      "padding": null,
      "right": null,
      "top": null,
      "visibility": null,
      "width": null
     }
    },
    "6713beb2ae9b46d48f34b1e7fa909d5f": {
     "model_module": "@jupyter-widgets/controls",
     "model_module_version": "1.5.0",
     "model_name": "DescriptionStyleModel",
     "state": {
      "_model_module": "@jupyter-widgets/controls",
      "_model_module_version": "1.5.0",
      "_model_name": "DescriptionStyleModel",
      "_view_count": null,
      "_view_module": "@jupyter-widgets/base",
      "_view_module_version": "1.2.0",
      "_view_name": "StyleView",
      "description_width": ""
     }
    },
    "69be82e6c30949539547a83b969f094d": {
     "model_module": "@jupyter-widgets/base",
     "model_module_version": "1.2.0",
     "model_name": "LayoutModel",
     "state": {
      "_model_module": "@jupyter-widgets/base",
      "_model_module_version": "1.2.0",
      "_model_name": "LayoutModel",
      "_view_count": null,
      "_view_module": "@jupyter-widgets/base",
      "_view_module_version": "1.2.0",
      "_view_name": "LayoutView",
      "align_content": null,
      "align_items": null,
      "align_self": null,
      "border": null,
      "bottom": null,
      "display": null,
      "flex": null,
      "flex_flow": null,
      "grid_area": null,
      "grid_auto_columns": null,
      "grid_auto_flow": null,
      "grid_auto_rows": null,
      "grid_column": null,
      "grid_gap": null,
      "grid_row": null,
      "grid_template_areas": null,
      "grid_template_columns": null,
      "grid_template_rows": null,
      "height": null,
      "justify_content": null,
      "justify_items": null,
      "left": null,
      "margin": null,
      "max_height": null,
      "max_width": null,
      "min_height": null,
      "min_width": null,
      "object_fit": null,
      "object_position": null,
      "order": null,
      "overflow": null,
      "overflow_x": null,
      "overflow_y": null,
      "padding": null,
      "right": null,
      "top": null,
      "visibility": null,
      "width": null
     }
    },
    "6a85fc5754a74abe8b0d39d932c3bd38": {
     "model_module": "@jupyter-widgets/base",
     "model_module_version": "1.2.0",
     "model_name": "LayoutModel",
     "state": {
      "_model_module": "@jupyter-widgets/base",
      "_model_module_version": "1.2.0",
      "_model_name": "LayoutModel",
      "_view_count": null,
      "_view_module": "@jupyter-widgets/base",
      "_view_module_version": "1.2.0",
      "_view_name": "LayoutView",
      "align_content": null,
      "align_items": null,
      "align_self": null,
      "border": null,
      "bottom": null,
      "display": null,
      "flex": null,
      "flex_flow": null,
      "grid_area": null,
      "grid_auto_columns": null,
      "grid_auto_flow": null,
      "grid_auto_rows": null,
      "grid_column": null,
      "grid_gap": null,
      "grid_row": null,
      "grid_template_areas": null,
      "grid_template_columns": null,
      "grid_template_rows": null,
      "height": null,
      "justify_content": null,
      "justify_items": null,
      "left": null,
      "margin": null,
      "max_height": null,
      "max_width": null,
      "min_height": null,
      "min_width": null,
      "object_fit": null,
      "object_position": null,
      "order": null,
      "overflow": null,
      "overflow_x": null,
      "overflow_y": null,
      "padding": null,
      "right": null,
      "top": null,
      "visibility": null,
      "width": null
     }
    },
    "6e9ba54225bc4eac94375c71056323c7": {
     "model_module": "@jupyter-widgets/controls",
     "model_module_version": "1.5.0",
     "model_name": "DescriptionStyleModel",
     "state": {
      "_model_module": "@jupyter-widgets/controls",
      "_model_module_version": "1.5.0",
      "_model_name": "DescriptionStyleModel",
      "_view_count": null,
      "_view_module": "@jupyter-widgets/base",
      "_view_module_version": "1.2.0",
      "_view_name": "StyleView",
      "description_width": ""
     }
    },
    "72d1cd61738548e9beec311cfb807c07": {
     "model_module": "@jupyter-widgets/base",
     "model_module_version": "1.2.0",
     "model_name": "LayoutModel",
     "state": {
      "_model_module": "@jupyter-widgets/base",
      "_model_module_version": "1.2.0",
      "_model_name": "LayoutModel",
      "_view_count": null,
      "_view_module": "@jupyter-widgets/base",
      "_view_module_version": "1.2.0",
      "_view_name": "LayoutView",
      "align_content": null,
      "align_items": null,
      "align_self": null,
      "border": null,
      "bottom": null,
      "display": null,
      "flex": null,
      "flex_flow": null,
      "grid_area": null,
      "grid_auto_columns": null,
      "grid_auto_flow": null,
      "grid_auto_rows": null,
      "grid_column": null,
      "grid_gap": null,
      "grid_row": null,
      "grid_template_areas": null,
      "grid_template_columns": null,
      "grid_template_rows": null,
      "height": null,
      "justify_content": null,
      "justify_items": null,
      "left": null,
      "margin": null,
      "max_height": null,
      "max_width": null,
      "min_height": null,
      "min_width": null,
      "object_fit": null,
      "object_position": null,
      "order": null,
      "overflow": null,
      "overflow_x": null,
      "overflow_y": null,
      "padding": null,
      "right": null,
      "top": null,
      "visibility": null,
      "width": null
     }
    },
    "72df7b1116cd44dab84e20a8912b9a35": {
     "model_module": "@jupyter-widgets/controls",
     "model_module_version": "1.5.0",
     "model_name": "HTMLModel",
     "state": {
      "_dom_classes": [],
      "_model_module": "@jupyter-widgets/controls",
      "_model_module_version": "1.5.0",
      "_model_name": "HTMLModel",
      "_view_count": null,
      "_view_module": "@jupyter-widgets/controls",
      "_view_module_version": "1.5.0",
      "_view_name": "HTMLView",
      "description": "",
      "description_tooltip": null,
      "layout": "IPY_MODEL_65ab6e82e4cf47069196d289c8bd83f0",
      "placeholder": "​",
      "style": "IPY_MODEL_8296450327ea48e99eb8918731432294",
      "value": "README.md: 100%"
     }
    },
    "796b1242b1864f6e91da13ed13a5aa73": {
     "model_module": "@jupyter-widgets/controls",
     "model_module_version": "1.5.0",
     "model_name": "HBoxModel",
     "state": {
      "_dom_classes": [],
      "_model_module": "@jupyter-widgets/controls",
      "_model_module_version": "1.5.0",
      "_model_name": "HBoxModel",
      "_view_count": null,
      "_view_module": "@jupyter-widgets/controls",
      "_view_module_version": "1.5.0",
      "_view_name": "HBoxView",
      "box_style": "",
      "children": [
       "IPY_MODEL_811d7501e6b64427ad9877878c78d366",
       "IPY_MODEL_00f7f4bcde354af1882e845626f74164",
       "IPY_MODEL_2274b57f6e06430d8a261110f78a6048"
      ],
      "layout": "IPY_MODEL_c7a01536e5904fbdbb110763714c05a3"
     }
    },
    "811d7501e6b64427ad9877878c78d366": {
     "model_module": "@jupyter-widgets/controls",
     "model_module_version": "1.5.0",
     "model_name": "HTMLModel",
     "state": {
      "_dom_classes": [],
      "_model_module": "@jupyter-widgets/controls",
      "_model_module_version": "1.5.0",
      "_model_name": "HTMLModel",
      "_view_count": null,
      "_view_module": "@jupyter-widgets/controls",
      "_view_module_version": "1.5.0",
      "_view_name": "HTMLView",
      "description": "",
      "description_tooltip": null,
      "layout": "IPY_MODEL_01357a07bdf64b5aa1104d05219645d5",
      "placeholder": "​",
      "style": "IPY_MODEL_6e9ba54225bc4eac94375c71056323c7",
      "value": "Generating train split: 100%"
     }
    },
    "8296450327ea48e99eb8918731432294": {
     "model_module": "@jupyter-widgets/controls",
     "model_module_version": "1.5.0",
     "model_name": "DescriptionStyleModel",
     "state": {
      "_model_module": "@jupyter-widgets/controls",
      "_model_module_version": "1.5.0",
      "_model_name": "DescriptionStyleModel",
      "_view_count": null,
      "_view_module": "@jupyter-widgets/base",
      "_view_module_version": "1.2.0",
      "_view_name": "StyleView",
      "description_width": ""
     }
    },
    "8b135e2c4bc74b05a3c08d79b3d0aff5": {
     "model_module": "@jupyter-widgets/controls",
     "model_module_version": "1.5.0",
     "model_name": "HBoxModel",
     "state": {
      "_dom_classes": [],
      "_model_module": "@jupyter-widgets/controls",
      "_model_module_version": "1.5.0",
      "_model_name": "HBoxModel",
      "_view_count": null,
      "_view_module": "@jupyter-widgets/controls",
      "_view_module_version": "1.5.0",
      "_view_name": "HBoxView",
      "box_style": "",
      "children": [
       "IPY_MODEL_21d29caef58b40b09e8e3db17ccaccbb",
       "IPY_MODEL_b3f8c1aa867244d28dd279ee384e9c2f",
       "IPY_MODEL_2060211f4ee44425bd26a594df540cf4"
      ],
      "layout": "IPY_MODEL_3a65e4a6363c46b5831bd0322becbc8d"
     }
    },
    "97880d28ba654b3e9d5276b727fadc15": {
     "model_module": "@jupyter-widgets/controls",
     "model_module_version": "1.5.0",
     "model_name": "ProgressStyleModel",
     "state": {
      "_model_module": "@jupyter-widgets/controls",
      "_model_module_version": "1.5.0",
      "_model_name": "ProgressStyleModel",
      "_view_count": null,
      "_view_module": "@jupyter-widgets/base",
      "_view_module_version": "1.2.0",
      "_view_name": "StyleView",
      "bar_color": null,
      "description_width": ""
     }
    },
    "9933df8d3d684ec29427027f72645b13": {
     "model_module": "@jupyter-widgets/base",
     "model_module_version": "1.2.0",
     "model_name": "LayoutModel",
     "state": {
      "_model_module": "@jupyter-widgets/base",
      "_model_module_version": "1.2.0",
      "_model_name": "LayoutModel",
      "_view_count": null,
      "_view_module": "@jupyter-widgets/base",
      "_view_module_version": "1.2.0",
      "_view_name": "LayoutView",
      "align_content": null,
      "align_items": null,
      "align_self": null,
      "border": null,
      "bottom": null,
      "display": null,
      "flex": null,
      "flex_flow": null,
      "grid_area": null,
      "grid_auto_columns": null,
      "grid_auto_flow": null,
      "grid_auto_rows": null,
      "grid_column": null,
      "grid_gap": null,
      "grid_row": null,
      "grid_template_areas": null,
      "grid_template_columns": null,
      "grid_template_rows": null,
      "height": null,
      "justify_content": null,
      "justify_items": null,
      "left": null,
      "margin": null,
      "max_height": null,
      "max_width": null,
      "min_height": null,
      "min_width": null,
      "object_fit": null,
      "object_position": null,
      "order": null,
      "overflow": null,
      "overflow_x": null,
      "overflow_y": null,
      "padding": null,
      "right": null,
      "top": null,
      "visibility": null,
      "width": null
     }
    },
    "9f04751fc4fc4143b7a50896af4ec957": {
     "model_module": "@jupyter-widgets/base",
     "model_module_version": "1.2.0",
     "model_name": "LayoutModel",
     "state": {
      "_model_module": "@jupyter-widgets/base",
      "_model_module_version": "1.2.0",
      "_model_name": "LayoutModel",
      "_view_count": null,
      "_view_module": "@jupyter-widgets/base",
      "_view_module_version": "1.2.0",
      "_view_name": "LayoutView",
      "align_content": null,
      "align_items": null,
      "align_self": null,
      "border": null,
      "bottom": null,
      "display": null,
      "flex": null,
      "flex_flow": null,
      "grid_area": null,
      "grid_auto_columns": null,
      "grid_auto_flow": null,
      "grid_auto_rows": null,
      "grid_column": null,
      "grid_gap": null,
      "grid_row": null,
      "grid_template_areas": null,
      "grid_template_columns": null,
      "grid_template_rows": null,
      "height": null,
      "justify_content": null,
      "justify_items": null,
      "left": null,
      "margin": null,
      "max_height": null,
      "max_width": null,
      "min_height": null,
      "min_width": null,
      "object_fit": null,
      "object_position": null,
      "order": null,
      "overflow": null,
      "overflow_x": null,
      "overflow_y": null,
      "padding": null,
      "right": null,
      "top": null,
      "visibility": null,
      "width": null
     }
    },
    "af09604610244e6a8635276bc46d3e9c": {
     "model_module": "@jupyter-widgets/controls",
     "model_module_version": "1.5.0",
     "model_name": "DescriptionStyleModel",
     "state": {
      "_model_module": "@jupyter-widgets/controls",
      "_model_module_version": "1.5.0",
      "_model_name": "DescriptionStyleModel",
      "_view_count": null,
      "_view_module": "@jupyter-widgets/base",
      "_view_module_version": "1.2.0",
      "_view_name": "StyleView",
      "description_width": ""
     }
    },
    "b3f8c1aa867244d28dd279ee384e9c2f": {
     "model_module": "@jupyter-widgets/controls",
     "model_module_version": "1.5.0",
     "model_name": "FloatProgressModel",
     "state": {
      "_dom_classes": [],
      "_model_module": "@jupyter-widgets/controls",
      "_model_module_version": "1.5.0",
      "_model_name": "FloatProgressModel",
      "_view_count": null,
      "_view_module": "@jupyter-widgets/controls",
      "_view_module_version": "1.5.0",
      "_view_name": "ProgressView",
      "bar_style": "success",
      "description": "",
      "description_tooltip": null,
      "layout": "IPY_MODEL_9f04751fc4fc4143b7a50896af4ec957",
      "max": 4790520,
      "min": 0,
      "orientation": "horizontal",
      "style": "IPY_MODEL_5bc5d4dac59442a686b64885f3217c42",
      "value": 4790520
     }
    },
    "c0895834fbe0484f8d6cb2684b30fe0a": {
     "model_module": "@jupyter-widgets/controls",
     "model_module_version": "1.5.0",
     "model_name": "HTMLModel",
     "state": {
      "_dom_classes": [],
      "_model_module": "@jupyter-widgets/controls",
      "_model_module_version": "1.5.0",
      "_model_name": "HTMLModel",
      "_view_count": null,
      "_view_module": "@jupyter-widgets/controls",
      "_view_module_version": "1.5.0",
      "_view_name": "HTMLView",
      "description": "",
      "description_tooltip": null,
      "layout": "IPY_MODEL_d2128d9978e946b59c7b283112eb1f1e",
      "placeholder": "​",
      "style": "IPY_MODEL_df30cf11f9854eb9a907b4412c5e5534",
      "value": "Map: 100%"
     }
    },
    "c55908dacb484fa99f42ad3aec5bd957": {
     "model_module": "@jupyter-widgets/controls",
     "model_module_version": "1.5.0",
     "model_name": "FloatProgressModel",
     "state": {
      "_dom_classes": [],
      "_model_module": "@jupyter-widgets/controls",
      "_model_module_version": "1.5.0",
      "_model_name": "FloatProgressModel",
      "_view_count": null,
      "_view_module": "@jupyter-widgets/controls",
      "_view_module_version": "1.5.0",
      "_view_name": "ProgressView",
      "bar_style": "success",
      "description": "",
      "description_tooltip": null,
      "layout": "IPY_MODEL_45b290a1c197403890ff510d396a7e2b",
      "max": 3512,
      "min": 0,
      "orientation": "horizontal",
      "style": "IPY_MODEL_57eedea1761841a4a3523dec0e42297e",
      "value": 3512
     }
    },
    "c7a01536e5904fbdbb110763714c05a3": {
     "model_module": "@jupyter-widgets/base",
     "model_module_version": "1.2.0",
     "model_name": "LayoutModel",
     "state": {
      "_model_module": "@jupyter-widgets/base",
      "_model_module_version": "1.2.0",
      "_model_name": "LayoutModel",
      "_view_count": null,
      "_view_module": "@jupyter-widgets/base",
      "_view_module_version": "1.2.0",
      "_view_name": "LayoutView",
      "align_content": null,
      "align_items": null,
      "align_self": null,
      "border": null,
      "bottom": null,
      "display": null,
      "flex": null,
      "flex_flow": null,
      "grid_area": null,
      "grid_auto_columns": null,
      "grid_auto_flow": null,
      "grid_auto_rows": null,
      "grid_column": null,
      "grid_gap": null,
      "grid_row": null,
      "grid_template_areas": null,
      "grid_template_columns": null,
      "grid_template_rows": null,
      "height": null,
      "justify_content": null,
      "justify_items": null,
      "left": null,
      "margin": null,
      "max_height": null,
      "max_width": null,
      "min_height": null,
      "min_width": null,
      "object_fit": null,
      "object_position": null,
      "order": null,
      "overflow": null,
      "overflow_x": null,
      "overflow_y": null,
      "padding": null,
      "right": null,
      "top": null,
      "visibility": null,
      "width": null
     }
    },
    "cf17d2f4248640809b49984a61fc6f12": {
     "model_module": "@jupyter-widgets/base",
     "model_module_version": "1.2.0",
     "model_name": "LayoutModel",
     "state": {
      "_model_module": "@jupyter-widgets/base",
      "_model_module_version": "1.2.0",
      "_model_name": "LayoutModel",
      "_view_count": null,
      "_view_module": "@jupyter-widgets/base",
      "_view_module_version": "1.2.0",
      "_view_name": "LayoutView",
      "align_content": null,
      "align_items": null,
      "align_self": null,
      "border": null,
      "bottom": null,
      "display": null,
      "flex": null,
      "flex_flow": null,
      "grid_area": null,
      "grid_auto_columns": null,
      "grid_auto_flow": null,
      "grid_auto_rows": null,
      "grid_column": null,
      "grid_gap": null,
      "grid_row": null,
      "grid_template_areas": null,
      "grid_template_columns": null,
      "grid_template_rows": null,
      "height": null,
      "justify_content": null,
      "justify_items": null,
      "left": null,
      "margin": null,
      "max_height": null,
      "max_width": null,
      "min_height": null,
      "min_width": null,
      "object_fit": null,
      "object_position": null,
      "order": null,
      "overflow": null,
      "overflow_x": null,
      "overflow_y": null,
      "padding": null,
      "right": null,
      "top": null,
      "visibility": null,
      "width": null
     }
    },
    "d037721041464401b657d771de4e56f8": {
     "model_module": "@jupyter-widgets/controls",
     "model_module_version": "1.5.0",
     "model_name": "HBoxModel",
     "state": {
      "_dom_classes": [],
      "_model_module": "@jupyter-widgets/controls",
      "_model_module_version": "1.5.0",
      "_model_name": "HBoxModel",
      "_view_count": null,
      "_view_module": "@jupyter-widgets/controls",
      "_view_module_version": "1.5.0",
      "_view_name": "HBoxView",
      "box_style": "",
      "children": [
       "IPY_MODEL_c0895834fbe0484f8d6cb2684b30fe0a",
       "IPY_MODEL_c55908dacb484fa99f42ad3aec5bd957",
       "IPY_MODEL_132addd1f7be40b790c22f7b721c97d2"
      ],
      "layout": "IPY_MODEL_5eb8c8fddff14c4db642fc37d8b1386b"
     }
    },
    "d12b4b59e5134abcabfcee581b64b48a": {
     "model_module": "@jupyter-widgets/controls",
     "model_module_version": "1.5.0",
     "model_name": "ProgressStyleModel",
     "state": {
      "_model_module": "@jupyter-widgets/controls",
      "_model_module_version": "1.5.0",
      "_model_name": "ProgressStyleModel",
      "_view_count": null,
      "_view_module": "@jupyter-widgets/base",
      "_view_module_version": "1.2.0",
      "_view_name": "StyleView",
      "bar_color": null,
      "description_width": ""
     }
    },
    "d2128d9978e946b59c7b283112eb1f1e": {
     "model_module": "@jupyter-widgets/base",
     "model_module_version": "1.2.0",
     "model_name": "LayoutModel",
     "state": {
      "_model_module": "@jupyter-widgets/base",
      "_model_module_version": "1.2.0",
      "_model_name": "LayoutModel",
      "_view_count": null,
      "_view_module": "@jupyter-widgets/base",
      "_view_module_version": "1.2.0",
      "_view_name": "LayoutView",
      "align_content": null,
      "align_items": null,
      "align_self": null,
      "border": null,
      "bottom": null,
      "display": null,
      "flex": null,
      "flex_flow": null,
      "grid_area": null,
      "grid_auto_columns": null,
      "grid_auto_flow": null,
      "grid_auto_rows": null,
      "grid_column": null,
      "grid_gap": null,
      "grid_row": null,
      "grid_template_areas": null,
      "grid_template_columns": null,
      "grid_template_rows": null,
      "height": null,
      "justify_content": null,
      "justify_items": null,
      "left": null,
      "margin": null,
      "max_height": null,
      "max_width": null,
      "min_height": null,
      "min_width": null,
      "object_fit": null,
      "object_position": null,
      "order": null,
      "overflow": null,
      "overflow_x": null,
      "overflow_y": null,
      "padding": null,
      "right": null,
      "top": null,
      "visibility": null,
      "width": null
     }
    },
    "d7ca003820a340c1a337b74a4cef29ca": {
     "model_module": "@jupyter-widgets/base",
     "model_module_version": "1.2.0",
     "model_name": "LayoutModel",
     "state": {
      "_model_module": "@jupyter-widgets/base",
      "_model_module_version": "1.2.0",
      "_model_name": "LayoutModel",
      "_view_count": null,
      "_view_module": "@jupyter-widgets/base",
      "_view_module_version": "1.2.0",
      "_view_name": "LayoutView",
      "align_content": null,
      "align_items": null,
      "align_self": null,
      "border": null,
      "bottom": null,
      "display": null,
      "flex": null,
      "flex_flow": null,
      "grid_area": null,
      "grid_auto_columns": null,
      "grid_auto_flow": null,
      "grid_auto_rows": null,
      "grid_column": null,
      "grid_gap": null,
      "grid_row": null,
      "grid_template_areas": null,
      "grid_template_columns": null,
      "grid_template_rows": null,
      "height": null,
      "justify_content": null,
      "justify_items": null,
      "left": null,
      "margin": null,
      "max_height": null,
      "max_width": null,
      "min_height": null,
      "min_width": null,
      "object_fit": null,
      "object_position": null,
      "order": null,
      "overflow": null,
      "overflow_x": null,
      "overflow_y": null,
      "padding": null,
      "right": null,
      "top": null,
      "visibility": null,
      "width": null
     }
    },
    "dce0d58b580543759140f1874f2d5fbe": {
     "model_module": "@jupyter-widgets/controls",
     "model_module_version": "1.5.0",
     "model_name": "DescriptionStyleModel",
     "state": {
      "_model_module": "@jupyter-widgets/controls",
      "_model_module_version": "1.5.0",
      "_model_name": "DescriptionStyleModel",
      "_view_count": null,
      "_view_module": "@jupyter-widgets/base",
      "_view_module_version": "1.2.0",
      "_view_name": "StyleView",
      "description_width": ""
     }
    },
    "df30cf11f9854eb9a907b4412c5e5534": {
     "model_module": "@jupyter-widgets/controls",
     "model_module_version": "1.5.0",
     "model_name": "DescriptionStyleModel",
     "state": {
      "_model_module": "@jupyter-widgets/controls",
      "_model_module_version": "1.5.0",
      "_model_name": "DescriptionStyleModel",
      "_view_count": null,
      "_view_module": "@jupyter-widgets/base",
      "_view_module_version": "1.2.0",
      "_view_name": "StyleView",
      "description_width": ""
     }
    },
    "ee066e40787b44b6865a3434fae101b1": {
     "model_module": "@jupyter-widgets/controls",
     "model_module_version": "1.5.0",
     "model_name": "FloatProgressModel",
     "state": {
      "_dom_classes": [],
      "_model_module": "@jupyter-widgets/controls",
      "_model_module_version": "1.5.0",
      "_model_name": "FloatProgressModel",
      "_view_count": null,
      "_view_module": "@jupyter-widgets/controls",
      "_view_module_version": "1.5.0",
      "_view_name": "ProgressView",
      "bar_style": "success",
      "description": "",
      "description_tooltip": null,
      "layout": "IPY_MODEL_6a85fc5754a74abe8b0d39d932c3bd38",
      "max": 2816,
      "min": 0,
      "orientation": "horizontal",
      "style": "IPY_MODEL_97880d28ba654b3e9d5276b727fadc15",
      "value": 2816
     }
    }
   }
  }
 },
 "nbformat": 4,
 "nbformat_minor": 4
}
